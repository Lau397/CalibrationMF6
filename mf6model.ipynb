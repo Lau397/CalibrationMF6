{
 "cells": [
  {
   "cell_type": "code",
   "execution_count": 4,
   "metadata": {
    "collapsed": true
   },
   "outputs": [
    {
     "ename": "FileNotFoundError",
     "evalue": "Could not find module 'C:\\Users\\Administrador\\anaconda3\\Library\\bin\\geos_c.dll' (or one of its dependencies). Try using the full path with constructor syntax.",
     "output_type": "error",
     "traceback": [
      "\u001b[1;31m---------------------------------------------------------------------------\u001b[0m",
      "\u001b[1;31mFileNotFoundError\u001b[0m                         Traceback (most recent call last)",
      "\u001b[1;32m<ipython-input-4-35a8858b84ec>\u001b[0m in \u001b[0;36m<module>\u001b[1;34m\u001b[0m\n\u001b[0;32m      1\u001b[0m \u001b[1;32mimport\u001b[0m \u001b[0mos\u001b[0m\u001b[1;33m\u001b[0m\u001b[1;33m\u001b[0m\u001b[0m\n\u001b[0;32m      2\u001b[0m \u001b[1;32mimport\u001b[0m \u001b[0msys\u001b[0m\u001b[1;33m\u001b[0m\u001b[1;33m\u001b[0m\u001b[0m\n\u001b[1;32m----> 3\u001b[1;33m \u001b[1;32mimport\u001b[0m \u001b[0mflopy\u001b[0m\u001b[1;33m\u001b[0m\u001b[1;33m\u001b[0m\u001b[0m\n\u001b[0m\u001b[0;32m      4\u001b[0m \u001b[1;32mimport\u001b[0m \u001b[0mnumpy\u001b[0m \u001b[1;32mas\u001b[0m \u001b[0mnp\u001b[0m\u001b[1;33m\u001b[0m\u001b[1;33m\u001b[0m\u001b[0m\n\u001b[0;32m      5\u001b[0m \u001b[1;32mimport\u001b[0m \u001b[0mpandas\u001b[0m \u001b[1;32mas\u001b[0m \u001b[0mpd\u001b[0m\u001b[1;33m\u001b[0m\u001b[1;33m\u001b[0m\u001b[0m\n",
      "\u001b[1;32m~\\anaconda3\\lib\\site-packages\\flopy\\__init__.py\u001b[0m in \u001b[0;36m<module>\u001b[1;34m\u001b[0m\n\u001b[0;32m     24\u001b[0m \u001b[1;33m\u001b[0m\u001b[0m\n\u001b[0;32m     25\u001b[0m \u001b[1;31m# imports\u001b[0m\u001b[1;33m\u001b[0m\u001b[1;33m\u001b[0m\u001b[1;33m\u001b[0m\u001b[0m\n\u001b[1;32m---> 26\u001b[1;33m \u001b[1;32mfrom\u001b[0m \u001b[1;33m.\u001b[0m \u001b[1;32mimport\u001b[0m \u001b[0mmodflow\u001b[0m\u001b[1;33m\u001b[0m\u001b[1;33m\u001b[0m\u001b[0m\n\u001b[0m\u001b[0;32m     27\u001b[0m \u001b[1;32mfrom\u001b[0m \u001b[1;33m.\u001b[0m \u001b[1;32mimport\u001b[0m \u001b[0mmt3d\u001b[0m\u001b[1;33m\u001b[0m\u001b[1;33m\u001b[0m\u001b[0m\n\u001b[0;32m     28\u001b[0m \u001b[1;32mfrom\u001b[0m \u001b[1;33m.\u001b[0m \u001b[1;32mimport\u001b[0m \u001b[0mseawat\u001b[0m\u001b[1;33m\u001b[0m\u001b[1;33m\u001b[0m\u001b[0m\n",
      "\u001b[1;32m~\\anaconda3\\lib\\site-packages\\flopy\\modflow\\__init__.py\u001b[0m in \u001b[0;36m<module>\u001b[1;34m\u001b[0m\n\u001b[1;32m----> 1\u001b[1;33m \u001b[1;32mfrom\u001b[0m \u001b[1;33m.\u001b[0m\u001b[0mmf\u001b[0m \u001b[1;32mimport\u001b[0m \u001b[0mModflow\u001b[0m\u001b[1;33m\u001b[0m\u001b[1;33m\u001b[0m\u001b[0m\n\u001b[0m\u001b[0;32m      2\u001b[0m \u001b[1;32mfrom\u001b[0m \u001b[1;33m.\u001b[0m\u001b[0mmfag\u001b[0m \u001b[1;32mimport\u001b[0m \u001b[0mModflowAg\u001b[0m\u001b[1;33m\u001b[0m\u001b[1;33m\u001b[0m\u001b[0m\n\u001b[0;32m      3\u001b[0m \u001b[1;32mfrom\u001b[0m \u001b[1;33m.\u001b[0m\u001b[0mmfbas\u001b[0m \u001b[1;32mimport\u001b[0m \u001b[0mModflowBas\u001b[0m\u001b[1;33m\u001b[0m\u001b[1;33m\u001b[0m\u001b[0m\n\u001b[0;32m      4\u001b[0m \u001b[1;32mfrom\u001b[0m \u001b[1;33m.\u001b[0m\u001b[0mmfbcf\u001b[0m \u001b[1;32mimport\u001b[0m \u001b[0mModflowBcf\u001b[0m\u001b[1;33m\u001b[0m\u001b[1;33m\u001b[0m\u001b[0m\n\u001b[0;32m      5\u001b[0m \u001b[1;32mfrom\u001b[0m \u001b[1;33m.\u001b[0m\u001b[0mmflpf\u001b[0m \u001b[1;32mimport\u001b[0m \u001b[0mModflowLpf\u001b[0m\u001b[1;33m\u001b[0m\u001b[1;33m\u001b[0m\u001b[0m\n",
      "\u001b[1;32m~\\anaconda3\\lib\\site-packages\\flopy\\modflow\\mf.py\u001b[0m in \u001b[0;36m<module>\u001b[1;34m\u001b[0m\n\u001b[0;32m      8\u001b[0m \u001b[1;32mimport\u001b[0m \u001b[0mflopy\u001b[0m\u001b[1;33m\u001b[0m\u001b[1;33m\u001b[0m\u001b[0m\n\u001b[0;32m      9\u001b[0m \u001b[1;32mfrom\u001b[0m \u001b[0minspect\u001b[0m \u001b[1;32mimport\u001b[0m \u001b[0mgetfullargspec\u001b[0m\u001b[1;33m\u001b[0m\u001b[1;33m\u001b[0m\u001b[0m\n\u001b[1;32m---> 10\u001b[1;33m \u001b[1;32mfrom\u001b[0m \u001b[1;33m.\u001b[0m\u001b[1;33m.\u001b[0m\u001b[0mmbase\u001b[0m \u001b[1;32mimport\u001b[0m \u001b[0mBaseModel\u001b[0m\u001b[1;33m\u001b[0m\u001b[1;33m\u001b[0m\u001b[0m\n\u001b[0m\u001b[0;32m     11\u001b[0m \u001b[1;32mfrom\u001b[0m \u001b[1;33m.\u001b[0m\u001b[1;33m.\u001b[0m\u001b[0mpakbase\u001b[0m \u001b[1;32mimport\u001b[0m \u001b[0mPackage\u001b[0m\u001b[1;33m\u001b[0m\u001b[1;33m\u001b[0m\u001b[0m\n\u001b[0;32m     12\u001b[0m \u001b[1;32mfrom\u001b[0m \u001b[1;33m.\u001b[0m\u001b[1;33m.\u001b[0m\u001b[0mutils\u001b[0m \u001b[1;32mimport\u001b[0m \u001b[0mmfreadnam\u001b[0m\u001b[1;33m\u001b[0m\u001b[1;33m\u001b[0m\u001b[0m\n",
      "\u001b[1;32m~\\anaconda3\\lib\\site-packages\\flopy\\mbase.py\u001b[0m in \u001b[0;36m<module>\u001b[1;34m\u001b[0m\n\u001b[0;32m     20\u001b[0m \u001b[1;32mimport\u001b[0m \u001b[0mcopy\u001b[0m\u001b[1;33m\u001b[0m\u001b[1;33m\u001b[0m\u001b[0m\n\u001b[0;32m     21\u001b[0m \u001b[1;32mimport\u001b[0m \u001b[0mnumpy\u001b[0m \u001b[1;32mas\u001b[0m \u001b[0mnp\u001b[0m\u001b[1;33m\u001b[0m\u001b[1;33m\u001b[0m\u001b[0m\n\u001b[1;32m---> 22\u001b[1;33m \u001b[1;32mfrom\u001b[0m \u001b[0mflopy\u001b[0m \u001b[1;32mimport\u001b[0m \u001b[0mutils\u001b[0m\u001b[1;33m,\u001b[0m \u001b[0mdiscretization\u001b[0m\u001b[1;33m\u001b[0m\u001b[1;33m\u001b[0m\u001b[0m\n\u001b[0m\u001b[0;32m     23\u001b[0m \u001b[1;32mfrom\u001b[0m \u001b[1;33m.\u001b[0m\u001b[0mversion\u001b[0m \u001b[1;32mimport\u001b[0m \u001b[0m__version__\u001b[0m\u001b[1;33m\u001b[0m\u001b[1;33m\u001b[0m\u001b[0m\n\u001b[0;32m     24\u001b[0m \u001b[1;32mfrom\u001b[0m \u001b[1;33m.\u001b[0m\u001b[0mdiscretization\u001b[0m\u001b[1;33m.\u001b[0m\u001b[0mmodeltime\u001b[0m \u001b[1;32mimport\u001b[0m \u001b[0mModelTime\u001b[0m\u001b[1;33m\u001b[0m\u001b[1;33m\u001b[0m\u001b[0m\n",
      "\u001b[1;32m~\\anaconda3\\lib\\site-packages\\flopy\\utils\\__init__.py\u001b[0m in \u001b[0;36m<module>\u001b[1;34m\u001b[0m\n\u001b[0;32m     71\u001b[0m \u001b[1;32mfrom\u001b[0m \u001b[1;33m.\u001b[0m\u001b[0moptionblock\u001b[0m \u001b[1;32mimport\u001b[0m \u001b[0mOptionBlock\u001b[0m\u001b[1;33m\u001b[0m\u001b[1;33m\u001b[0m\u001b[0m\n\u001b[0;32m     72\u001b[0m \u001b[1;32mfrom\u001b[0m \u001b[1;33m.\u001b[0m\u001b[0mrasters\u001b[0m \u001b[1;32mimport\u001b[0m \u001b[0mRaster\u001b[0m\u001b[1;33m\u001b[0m\u001b[1;33m\u001b[0m\u001b[0m\n\u001b[1;32m---> 73\u001b[1;33m \u001b[1;32mfrom\u001b[0m \u001b[1;33m.\u001b[0m\u001b[0mgridintersect\u001b[0m \u001b[1;32mimport\u001b[0m \u001b[0mGridIntersect\u001b[0m\u001b[1;33m,\u001b[0m \u001b[0mModflowGridIndices\u001b[0m\u001b[1;33m\u001b[0m\u001b[1;33m\u001b[0m\u001b[0m\n\u001b[0m",
      "\u001b[1;32m~\\anaconda3\\lib\\site-packages\\flopy\\utils\\gridintersect.py\u001b[0m in \u001b[0;36m<module>\u001b[1;34m\u001b[0m\n\u001b[0;32m      7\u001b[0m \u001b[1;33m\u001b[0m\u001b[0m\n\u001b[0;32m      8\u001b[0m \u001b[1;32mfrom\u001b[0m \u001b[1;33m.\u001b[0m\u001b[0mgeometry\u001b[0m \u001b[1;32mimport\u001b[0m \u001b[0mtransform\u001b[0m\u001b[1;33m\u001b[0m\u001b[1;33m\u001b[0m\u001b[0m\n\u001b[1;32m----> 9\u001b[1;33m \u001b[1;32mfrom\u001b[0m \u001b[1;33m.\u001b[0m\u001b[0mgeospatial_utils\u001b[0m \u001b[1;32mimport\u001b[0m \u001b[0mGeoSpatialUtil\u001b[0m\u001b[1;33m\u001b[0m\u001b[1;33m\u001b[0m\u001b[0m\n\u001b[0m\u001b[0;32m     10\u001b[0m \u001b[1;33m\u001b[0m\u001b[0m\n\u001b[0;32m     11\u001b[0m \u001b[1;32mtry\u001b[0m\u001b[1;33m:\u001b[0m\u001b[1;33m\u001b[0m\u001b[1;33m\u001b[0m\u001b[0m\n",
      "\u001b[1;32m~\\anaconda3\\lib\\site-packages\\flopy\\utils\\geospatial_utils.py\u001b[0m in \u001b[0;36m<module>\u001b[1;34m\u001b[0m\n\u001b[0;32m      1\u001b[0m \u001b[1;32mtry\u001b[0m\u001b[1;33m:\u001b[0m\u001b[1;33m\u001b[0m\u001b[1;33m\u001b[0m\u001b[0m\n\u001b[0;32m      2\u001b[0m     \u001b[1;32mimport\u001b[0m \u001b[0mshapely\u001b[0m\u001b[1;33m\u001b[0m\u001b[1;33m\u001b[0m\u001b[0m\n\u001b[1;32m----> 3\u001b[1;33m     from shapely.geometry import (\n\u001b[0m\u001b[0;32m      4\u001b[0m         \u001b[0mMultiPolygon\u001b[0m\u001b[1;33m,\u001b[0m\u001b[1;33m\u001b[0m\u001b[1;33m\u001b[0m\u001b[0m\n\u001b[0;32m      5\u001b[0m         \u001b[0mPolygon\u001b[0m\u001b[1;33m,\u001b[0m\u001b[1;33m\u001b[0m\u001b[1;33m\u001b[0m\u001b[0m\n",
      "\u001b[1;32m~\\anaconda3\\lib\\site-packages\\shapely\\geometry\\__init__.py\u001b[0m in \u001b[0;36m<module>\u001b[1;34m\u001b[0m\n\u001b[0;32m      2\u001b[0m \"\"\"\n\u001b[0;32m      3\u001b[0m \u001b[1;33m\u001b[0m\u001b[0m\n\u001b[1;32m----> 4\u001b[1;33m \u001b[1;32mfrom\u001b[0m \u001b[1;33m.\u001b[0m\u001b[0mbase\u001b[0m \u001b[1;32mimport\u001b[0m \u001b[0mCAP_STYLE\u001b[0m\u001b[1;33m,\u001b[0m \u001b[0mJOIN_STYLE\u001b[0m\u001b[1;33m\u001b[0m\u001b[1;33m\u001b[0m\u001b[0m\n\u001b[0m\u001b[0;32m      5\u001b[0m \u001b[1;32mfrom\u001b[0m \u001b[1;33m.\u001b[0m\u001b[0mgeo\u001b[0m \u001b[1;32mimport\u001b[0m \u001b[0mbox\u001b[0m\u001b[1;33m,\u001b[0m \u001b[0mshape\u001b[0m\u001b[1;33m,\u001b[0m \u001b[0masShape\u001b[0m\u001b[1;33m,\u001b[0m \u001b[0mmapping\u001b[0m\u001b[1;33m\u001b[0m\u001b[1;33m\u001b[0m\u001b[0m\n\u001b[0;32m      6\u001b[0m \u001b[1;32mfrom\u001b[0m \u001b[1;33m.\u001b[0m\u001b[0mpoint\u001b[0m \u001b[1;32mimport\u001b[0m \u001b[0mPoint\u001b[0m\u001b[1;33m,\u001b[0m \u001b[0masPoint\u001b[0m\u001b[1;33m\u001b[0m\u001b[1;33m\u001b[0m\u001b[0m\n",
      "\u001b[1;32m~\\anaconda3\\lib\\site-packages\\shapely\\geometry\\base.py\u001b[0m in \u001b[0;36m<module>\u001b[1;34m\u001b[0m\n\u001b[0;32m     17\u001b[0m \u001b[1;33m\u001b[0m\u001b[0m\n\u001b[0;32m     18\u001b[0m \u001b[1;32mfrom\u001b[0m \u001b[0mshapely\u001b[0m\u001b[1;33m.\u001b[0m\u001b[0maffinity\u001b[0m \u001b[1;32mimport\u001b[0m \u001b[0maffine_transform\u001b[0m\u001b[1;33m\u001b[0m\u001b[1;33m\u001b[0m\u001b[0m\n\u001b[1;32m---> 19\u001b[1;33m \u001b[1;32mfrom\u001b[0m \u001b[0mshapely\u001b[0m\u001b[1;33m.\u001b[0m\u001b[0mcoords\u001b[0m \u001b[1;32mimport\u001b[0m \u001b[0mCoordinateSequence\u001b[0m\u001b[1;33m\u001b[0m\u001b[1;33m\u001b[0m\u001b[0m\n\u001b[0m\u001b[0;32m     20\u001b[0m \u001b[1;32mfrom\u001b[0m \u001b[0mshapely\u001b[0m\u001b[1;33m.\u001b[0m\u001b[0merrors\u001b[0m \u001b[1;32mimport\u001b[0m \u001b[0mWKBReadingError\u001b[0m\u001b[1;33m,\u001b[0m \u001b[0mWKTReadingError\u001b[0m\u001b[1;33m\u001b[0m\u001b[1;33m\u001b[0m\u001b[0m\n\u001b[0;32m     21\u001b[0m \u001b[1;32mfrom\u001b[0m \u001b[0mshapely\u001b[0m\u001b[1;33m.\u001b[0m\u001b[0mgeos\u001b[0m \u001b[1;32mimport\u001b[0m \u001b[0mWKBWriter\u001b[0m\u001b[1;33m,\u001b[0m \u001b[0mWKTWriter\u001b[0m\u001b[1;33m\u001b[0m\u001b[1;33m\u001b[0m\u001b[0m\n",
      "\u001b[1;32m~\\anaconda3\\lib\\site-packages\\shapely\\coords.py\u001b[0m in \u001b[0;36m<module>\u001b[1;34m\u001b[0m\n\u001b[0;32m      6\u001b[0m \u001b[1;32mfrom\u001b[0m \u001b[0mctypes\u001b[0m \u001b[1;32mimport\u001b[0m \u001b[0mbyref\u001b[0m\u001b[1;33m,\u001b[0m \u001b[0mc_double\u001b[0m\u001b[1;33m,\u001b[0m \u001b[0mc_uint\u001b[0m\u001b[1;33m\u001b[0m\u001b[1;33m\u001b[0m\u001b[0m\n\u001b[0;32m      7\u001b[0m \u001b[1;33m\u001b[0m\u001b[0m\n\u001b[1;32m----> 8\u001b[1;33m \u001b[1;32mfrom\u001b[0m \u001b[0mshapely\u001b[0m\u001b[1;33m.\u001b[0m\u001b[0mgeos\u001b[0m \u001b[1;32mimport\u001b[0m \u001b[0mlgeos\u001b[0m\u001b[1;33m\u001b[0m\u001b[1;33m\u001b[0m\u001b[0m\n\u001b[0m\u001b[0;32m      9\u001b[0m \u001b[1;32mfrom\u001b[0m \u001b[0mshapely\u001b[0m\u001b[1;33m.\u001b[0m\u001b[0mtopology\u001b[0m \u001b[1;32mimport\u001b[0m \u001b[0mValidating\u001b[0m\u001b[1;33m\u001b[0m\u001b[1;33m\u001b[0m\u001b[0m\n\u001b[0;32m     10\u001b[0m \u001b[1;33m\u001b[0m\u001b[0m\n",
      "\u001b[1;32m~\\anaconda3\\lib\\site-packages\\shapely\\geos.py\u001b[0m in \u001b[0;36m<module>\u001b[1;34m\u001b[0m\n\u001b[0;32m    152\u001b[0m     \u001b[1;32mif\u001b[0m \u001b[0mos\u001b[0m\u001b[1;33m.\u001b[0m\u001b[0mgetenv\u001b[0m\u001b[1;33m(\u001b[0m\u001b[1;34m'CONDA_PREFIX'\u001b[0m\u001b[1;33m,\u001b[0m \u001b[1;34m''\u001b[0m\u001b[1;33m)\u001b[0m\u001b[1;33m:\u001b[0m\u001b[1;33m\u001b[0m\u001b[1;33m\u001b[0m\u001b[0m\n\u001b[0;32m    153\u001b[0m         \u001b[1;31m# conda package.\u001b[0m\u001b[1;33m\u001b[0m\u001b[1;33m\u001b[0m\u001b[1;33m\u001b[0m\u001b[0m\n\u001b[1;32m--> 154\u001b[1;33m         \u001b[0m_lgeos\u001b[0m \u001b[1;33m=\u001b[0m \u001b[0mCDLL\u001b[0m\u001b[1;33m(\u001b[0m\u001b[0mos\u001b[0m\u001b[1;33m.\u001b[0m\u001b[0mpath\u001b[0m\u001b[1;33m.\u001b[0m\u001b[0mjoin\u001b[0m\u001b[1;33m(\u001b[0m\u001b[0msys\u001b[0m\u001b[1;33m.\u001b[0m\u001b[0mprefix\u001b[0m\u001b[1;33m,\u001b[0m \u001b[1;34m'Library'\u001b[0m\u001b[1;33m,\u001b[0m \u001b[1;34m'bin'\u001b[0m\u001b[1;33m,\u001b[0m \u001b[1;34m'geos_c.dll'\u001b[0m\u001b[1;33m)\u001b[0m\u001b[1;33m)\u001b[0m\u001b[1;33m\u001b[0m\u001b[1;33m\u001b[0m\u001b[0m\n\u001b[0m\u001b[0;32m    155\u001b[0m     \u001b[1;32melse\u001b[0m\u001b[1;33m:\u001b[0m\u001b[1;33m\u001b[0m\u001b[1;33m\u001b[0m\u001b[0m\n\u001b[0;32m    156\u001b[0m         \u001b[1;32mtry\u001b[0m\u001b[1;33m:\u001b[0m\u001b[1;33m\u001b[0m\u001b[1;33m\u001b[0m\u001b[0m\n",
      "\u001b[1;32m~\\anaconda3\\lib\\ctypes\\__init__.py\u001b[0m in \u001b[0;36m__init__\u001b[1;34m(self, name, mode, handle, use_errno, use_last_error, winmode)\u001b[0m\n\u001b[0;32m    379\u001b[0m \u001b[1;33m\u001b[0m\u001b[0m\n\u001b[0;32m    380\u001b[0m         \u001b[1;32mif\u001b[0m \u001b[0mhandle\u001b[0m \u001b[1;32mis\u001b[0m \u001b[1;32mNone\u001b[0m\u001b[1;33m:\u001b[0m\u001b[1;33m\u001b[0m\u001b[1;33m\u001b[0m\u001b[0m\n\u001b[1;32m--> 381\u001b[1;33m             \u001b[0mself\u001b[0m\u001b[1;33m.\u001b[0m\u001b[0m_handle\u001b[0m \u001b[1;33m=\u001b[0m \u001b[0m_dlopen\u001b[0m\u001b[1;33m(\u001b[0m\u001b[0mself\u001b[0m\u001b[1;33m.\u001b[0m\u001b[0m_name\u001b[0m\u001b[1;33m,\u001b[0m \u001b[0mmode\u001b[0m\u001b[1;33m)\u001b[0m\u001b[1;33m\u001b[0m\u001b[1;33m\u001b[0m\u001b[0m\n\u001b[0m\u001b[0;32m    382\u001b[0m         \u001b[1;32melse\u001b[0m\u001b[1;33m:\u001b[0m\u001b[1;33m\u001b[0m\u001b[1;33m\u001b[0m\u001b[0m\n\u001b[0;32m    383\u001b[0m             \u001b[0mself\u001b[0m\u001b[1;33m.\u001b[0m\u001b[0m_handle\u001b[0m \u001b[1;33m=\u001b[0m \u001b[0mhandle\u001b[0m\u001b[1;33m\u001b[0m\u001b[1;33m\u001b[0m\u001b[0m\n",
      "\u001b[1;31mFileNotFoundError\u001b[0m: Could not find module 'C:\\Users\\Administrador\\anaconda3\\Library\\bin\\geos_c.dll' (or one of its dependencies). Try using the full path with constructor syntax."
     ]
    }
   ],
   "source": [
    "import os\n",
    "import sys\n",
    "import flopy\n",
    "import numpy as np\n",
    "import pandas as pd\n",
    "from osgeo import gdal\n",
    "\n",
    "np.set_printoptions(threshold=sys.maxsize)"
   ]
  },
  {
   "cell_type": "code",
   "execution_count": null,
   "metadata": {},
   "outputs": [],
   "source": [
    "#import shapefile\n",
    "import flopy.utils.binaryfile as bf\n",
    "from flopy.utils.reference import SpatialReference\n",
    "import matplotlib.pyplot as plt\n",
    "import matplotlib as mpl"
   ]
  },
  {
   "cell_type": "code",
   "execution_count": null,
   "metadata": {},
   "outputs": [],
   "source": [
    "workspace = \"workspace\" #os.path.join(\"C:/Users/oscar.sanchez/PEST/CalibrationMF6\")\n",
    "if not os.path.exists(workspace):\n",
    "    os.makedirs(workspace)\n",
    "Insumos = \"Insumos\"\n",
    "#workspace = \"workspace\"\n",
    "model_name = \"mf6model\"\n",
    "exe_name=\"mf6.exe\""
   ]
  },
  {
   "cell_type": "code",
   "execution_count": null,
   "metadata": {},
   "outputs": [],
   "source": [
    "### Loading raster layers for the 4 layer model\n",
    "\n",
    "# Top layer:\n",
    "PathTop = os.path.join(Insumos, \"Superficie.tif\")\n",
    "demDs = gdal.Open(PathTop)\n",
    "Superficie_Total = demDs.GetRasterBand(1).ReadAsArray()\n",
    "geot = demDs.GetGeoTransform()\n",
    "\n",
    "# Layer 1. Limos Rojos\n",
    "Limos = os.path.join(Insumos, \"EspLimos.tif\")\n",
    "demDsLimos = gdal.Open(Limos)\n",
    "Espesor_Limos = demDsLimos.GetRasterBand(1).ReadAsArray()\n",
    "\n",
    "# Layer 2. Gravoso\n",
    "Gravoso = os.path.join(Insumos, \"EspGravoso.tif\")\n",
    "demDsGravoso = gdal.Open(Gravoso)\n",
    "Espesor_Gravoso = demDsGravoso.GetRasterBand(1).ReadAsArray()\n",
    "\n",
    "# Layer 3. Finos\n",
    "Finos = os.path.join(Insumos, \"EspFinos.tif\")\n",
    "demDsFinos = gdal.Open(Finos)\n",
    "Espesor_Finos = demDsFinos.GetRasterBand(1).ReadAsArray()\n",
    "\n",
    "# Layer 4. Órganos\n",
    "Organos = os.path.join(Insumos, \"EspOrganos.tif\")\n",
    "demDsOrganos = gdal.Open(Organos)\n",
    "Espesor_Organos = demDsOrganos.GetRasterBand(1).ReadAsArray()\n",
    "\n",
    "# heads raster Capa 2: Gravoso\n",
    "headPath_2 = os.path.join(Insumos, \"Carga Hidráulica.tif\")\n",
    "headDs_2 = gdal.Open(headPath_2)\n",
    "headData_2 = headDs_2.GetRasterBand(1).ReadAsArray()\n",
    "#headData_2[headData_2 < 0] = 0\n",
    "\n",
    "# heads raster Capa 4: Órganos\n",
    "headPath_4 =  os.path.join(Insumos,\"Carga_Organos.tif\")\n",
    "headDs_4 = gdal.Open(headPath_4)\n",
    "headData_4 = headDs_4.GetRasterBand(1).ReadAsArray()\n",
    "#headData_4[headData_4 < 0] = 0\n",
    "\n",
    "### River stage and bottom rasters\n",
    "RiverPathStage =  os.path.join(Insumos, \"Rios_CortadoStage.tif\")\n",
    "demRiverStage = gdal.Open(RiverPathStage)\n",
    "RiverStage = demRiverStage.GetRasterBand(1).ReadAsArray()\n",
    "#RiverStage[RiverStage < 0] = 0\n",
    "\n",
    "RiverPathBottom =  os.path.join(Insumos, \"Rios_CortadoBottom.tif\")\n",
    "demRiverBottom = gdal.Open(RiverPathBottom)\n",
    "RiverBottom = demRiverBottom.GetRasterBand(1).ReadAsArray()\n",
    "#RiverBottom[RiverBottom < 0] = 0"
   ]
  },
  {
   "cell_type": "code",
   "execution_count": null,
   "metadata": {},
   "outputs": [],
   "source": [
    "### Initial condition of the model\n",
    "# Spatial Reference Module\n",
    "xll, yll = 1098000, 1271000 # model origin\n",
    "xul, yul = 1098000, 1285000 \n",
    "# Pixel size\n",
    "delr = int(geot[1])\n",
    "delc = int(abs(geot[5]))\n",
    "# num of layers, num of cols an rows\n",
    "nlay = 4\n",
    "ncol = demDs.RasterXSize\n",
    "nrow = demDs.RasterYSize\n",
    "rot = 0"
   ]
  },
  {
   "cell_type": "code",
   "execution_count": null,
   "metadata": {},
   "outputs": [],
   "source": [
    "# Specify coordinate system\n",
    "sr = flopy.utils.SpatialReference(delr=(np.ones(nrow, dtype=float) * delr),\n",
    "                                  delc=(np.ones(nrow, dtype=float) * delc), lenuni=2,\n",
    "                                  xul=xul, yul=yul, rotation=0, epsg='3116')\n",
    "sr"
   ]
  },
  {
   "cell_type": "code",
   "execution_count": null,
   "metadata": {},
   "outputs": [],
   "source": [
    "# Thicknes of all 4 layers as a vector\n",
    "Espesores = [Espesor_Limos, Espesor_Gravoso, Espesor_Finos, Espesor_Organos]"
   ]
  },
  {
   "cell_type": "code",
   "execution_count": null,
   "metadata": {},
   "outputs": [],
   "source": [
    "# Top layer raster\n",
    "ztop = Superficie_Total\n",
    "\n",
    "# Subtracting top layer to the thickness of each layer to get the bottom\n",
    "zbot = np.zeros((nlay, nrow, ncol), dtype=np.float32)\n",
    "\n",
    "zbot[0,:,:] = ztop - Espesores[0]\n",
    "for lay in range(1,nlay):\n",
    "    zbot[lay,:,:] = zbot[lay-1,:,:] - Espesores[lay]  "
   ]
  },
  {
   "cell_type": "markdown",
   "metadata": {},
   "source": [
    "### Graphic representation of rasters for each layer"
   ]
  },
  {
   "cell_type": "code",
   "execution_count": null,
   "metadata": {},
   "outputs": [],
   "source": [
    "# Model Extent\n",
    "xmin = xll\n",
    "xmax = 1110000\n",
    "ymin = yll\n",
    "ymax = 1285000\n",
    "extent = (xmin, xmax , ymin, ymax)\n",
    "x = np.arange(xmin, ymax, 50)\n",
    "y = np.arange(xmin, ymax, 50)\n",
    "X,Y= np.meshgrid(x,y)"
   ]
  },
  {
   "cell_type": "code",
   "execution_count": null,
   "metadata": {},
   "outputs": [],
   "source": [
    "# TOP of the model\n",
    "plt.figure()\n",
    "fig = plt.figure(figsize=(11, 11))\n",
    "ax = fig.add_subplot(1, 1, 1, aspect='equal')\n",
    "#zbot[0][zbot[0]>1.0e+38]=0    #These are no data values\n",
    "#zbot[0][zbot[0]<-1.0e+38]=0   #These are no data values\n",
    "\n",
    "plt.imshow(ztop,extent = extent)    \n",
    "plt.xlabel('Coordenadas W-E',fontsize=11)\n",
    "plt.ylabel('Coordenadas S-N',fontsize=11)\n",
    "plt.title('Superficie',fontsize = 22)\n",
    "plt.colorbar(shrink=0.7);\n",
    "#plt.savefig(fname='Superficie del terreno - ztop')\n",
    "\n",
    "# LIMOS ROJOS LAYER 1\n",
    "plt.figure()\n",
    "fig = plt.figure(figsize=(11, 11))\n",
    "ax = fig.add_subplot(1, 1, 1, aspect='equal')\n",
    "\n",
    "plt.imshow(zbot[0],extent = extent)    \n",
    "plt.xlabel('Coordenadas W-E',fontsize=11)\n",
    "plt.ylabel('Coordenadas S-N',fontsize=11)\n",
    "plt.title('Capa 1: Limos Rojos',fontsize = 22)\n",
    "plt.colorbar(shrink=0.7);\n",
    "plt.savefig(fname='Bottom de Limos Rojos - zbot 1')\n",
    "\n",
    "# GRAVOSO LAYER 2\n",
    "plt.figure()\n",
    "fig = plt.figure(figsize=(11, 11))\n",
    "ax = fig.add_subplot(1, 1, 1, aspect='equal')\n",
    "#zbot[1][zbot[1]>1.0e+38]=0\n",
    "#zbot[1][zbot[1]<-1.0e+38]=0\n",
    "\n",
    "plt.imshow(zbot[1],extent = extent)\n",
    "plt.xlabel('Coordenadas W-E',fontsize=11)\n",
    "plt.ylabel('Coordenadas S-N',fontsize=11)\n",
    "plt.title('Capa 2: Gravoso',fontsize = 22)\n",
    "plt.colorbar(shrink=0.7);\n",
    "#plt.savefig(fname='Bottom de Gravoso - zbot 2')\n",
    "\n",
    "# FINOS LAYER 3\n",
    "plt.figure()\n",
    "fig = plt.figure(figsize=(11, 11))\n",
    "ax = fig.add_subplot(1, 1, 1, aspect='equal')\n",
    "\n",
    "plt.imshow(zbot[2],extent = extent)\n",
    "plt.xlabel('Coordenadas W-E',fontsize=11)\n",
    "plt.ylabel('Coordenadas S-N',fontsize=11)\n",
    "plt.title('Capa 3: Finos',fontsize = 22)\n",
    "plt.colorbar(shrink=0.7);\n",
    "#plt.savefig(fname='Bottom de Finos - zbot 3')\n",
    "\n",
    "\n",
    "# ÓRGANOS LAYER 4\n",
    "plt.figure()\n",
    "fig = plt.figure(figsize=(11, 11))\n",
    "ax = fig.add_subplot(1, 1, 1, aspect='equal')\n",
    "\n",
    "plt.imshow(zbot[3],extent = extent)\n",
    "plt.xlabel('Coordenadas W-E',fontsize=11)\n",
    "plt.ylabel('Coordenadas S-N',fontsize=11)\n",
    "plt.title('Capa 4: Órganos',fontsize = 22)\n",
    "plt.colorbar(shrink=0.7);\n",
    "#plt.savefig(fname='Bottom de Órganos - zbot 4')"
   ]
  },
  {
   "cell_type": "code",
   "execution_count": null,
   "metadata": {},
   "outputs": [],
   "source": [
    "for ilay in range(4):  \n",
    "    plt.figure()\n",
    "    fig = plt.figure(figsize=(11, 11))\n",
    "    ax = fig.add_subplot(1, 1, 1, aspect='equal')\n",
    "    plt.imshow((zbot[ilay]),extent = extent) \n",
    "    \n",
    "    plt.xlabel('Coordenadas W-E',fontsize=11)\n",
    "    plt.ylabel('Coordenadas S-N',fontsize=11)\n",
    "    plt.title('Capa {}'.format(ilay + 1),fontsize = 22)\n",
    "    plt.colorbar(shrink=0.7,ax=ax);\n",
    "    plt.savefig(fname='Capa {}'.format(ilay + 1))\n",
    "   #ax = axes[ilay]\n",
    "   #ax.set_title('Layer {}'.format(ilay + 1))\n",
    "   #ax.set_aspect('equal')\n",
    "   #modelmap = flopy.plot.PlotMapView(model=gwf, layer=ilay, ax=ax)"
   ]
  },
  {
   "cell_type": "markdown",
   "metadata": {},
   "source": [
    "### Model domain for each of the four layers"
   ]
  },
  {
   "cell_type": "code",
   "execution_count": null,
   "metadata": {},
   "outputs": [],
   "source": [
    "# To have model domain we're using other raster with values > 0 only inside their domain (and not on every cell like the previous rasters)\n",
    "# Top layer:\n",
    "Path_Top = os.path.join(Insumos,\"Proyecto 50x50 total.tif\")\n",
    "dem_Ds = gdal.Open(Path_Top)\n",
    "FormaSuperficie = dem_Ds.GetRasterBand(1).ReadAsArray()\n",
    "#FormaSuperficie[FormaSuperficie<0]=0\n",
    "\n",
    "# Layer 1. Limos Rojos\n",
    "_Limos = os.path.join(Insumos,\"Espesor Limos.tif\")\n",
    "demDs_Limos = gdal.Open(_Limos)\n",
    "FormaLimos = demDs_Limos.GetRasterBand(1).ReadAsArray()\n",
    "#FormaLimos[FormaLimos<0]=0\n",
    "\n",
    "# Layer 2. Gravoso\n",
    "_Gravoso = os.path.join(Insumos,\"Espesor Gravoso.tif\")\n",
    "demDs_Gravoso = gdal.Open(_Gravoso)\n",
    "FormaGravoso = demDs_Gravoso.GetRasterBand(1).ReadAsArray()\n",
    "#FormaGravoso[FormaGravoso<0]=0\n",
    "\n",
    "# Layer 3. Finos\n",
    "_Finos = os.path.join(Insumos,\"Espesor Finos.tif\")\n",
    "demDs_Finos = gdal.Open(_Finos)\n",
    "FormaFinos = demDs_Finos.GetRasterBand(1).ReadAsArray()\n",
    "#FormaFinos[FormaFinos<0]=0\n",
    "\n",
    "# Layer 4. Órganos\n",
    "_Organos = os.path.join(Insumos,\"Espesor Organos.tif\")\n",
    "demDs_Organos = gdal.Open(_Organos)\n",
    "FormaOrganos = demDs_Organos.GetRasterBand(1).ReadAsArray()\n",
    "#FormaOrganos[FormaOrganos<0]=0\n"
   ]
  },
  {
   "cell_type": "code",
   "execution_count": null,
   "metadata": {},
   "outputs": [],
   "source": [
    "# Each of these layers as a vector\n",
    "Formas = [FormaLimos, FormaGravoso, FormaFinos, FormaOrganos]"
   ]
  },
  {
   "cell_type": "code",
   "execution_count": null,
   "metadata": {},
   "outputs": [],
   "source": [
    "# Se señalan las fronteras de cada capa\n",
    "\n",
    "idomain = np.zeros((nlay, nrow, ncol), dtype=np.float32)\n",
    "#idomain[0,:,:] = 1\n",
    "\n",
    "for lay in range(1,nlay):\n",
    "    idomain[lay][Formas[lay] < 0] = -1 #-1e+38 and 1e+38 are no data values\n",
    "    idomain[lay][Formas[lay] > 0] = 1\n",
    "\n",
    "idomain[0,:,:] = idomain[3]\n",
    "\n",
    "idomain[1][idomain[3] == -1] = 0\n",
    "idomain[2][idomain[3] == -1] = 0\n",
    "idomain[3][idomain[3] == -1] = 0"
   ]
  },
  {
   "cell_type": "code",
   "execution_count": null,
   "metadata": {},
   "outputs": [],
   "source": [
    "# Initial constant head\n",
    "# Starting heads \n",
    "strt = np.ones((nlay, nrow, ncol), dtype=np.float32)\n",
    "strt[:,:,:] = ztop"
   ]
  },
  {
   "cell_type": "markdown",
   "metadata": {},
   "source": [
    "### Celdas activas e inactivas en cada capa"
   ]
  },
  {
   "cell_type": "code",
   "execution_count": null,
   "metadata": {
    "scrolled": false
   },
   "outputs": [],
   "source": [
    "# CELDAS ACTIVAS: Dominio de la capa 1: Limos Rojos\n",
    "plt.figure()\n",
    "fig = plt.figure(figsize=(11, 11))\n",
    "ax = fig.add_subplot(1, 1, 1, aspect='equal')\n",
    "\n",
    "plt.imshow(idomain[0],extent = extent)    \n",
    "plt.xlabel('Coordenadas W-E',fontsize=11)\n",
    "plt.ylabel('Coordenadas S-N',fontsize=11)\n",
    "plt.title('Dominio de Limos Rojos',fontsize = 22)\n",
    "plt.colorbar(shrink=0.7);\n",
    "#plt.savefig(fname='Dominio de la capa 1 - Limos Rojos')\n",
    "\n",
    "# CELDAS ACTIVAS/INACTIVAS. Dominio de la capa 2: Gravoso\n",
    "plt.figure()\n",
    "fig = plt.figure(figsize=(11, 11))\n",
    "ax = fig.add_subplot(1, 1, 1, aspect='equal')\n",
    "\n",
    "plt.imshow(idomain[1],extent = extent)    \n",
    "plt.xlabel('Coordenadas W-E',fontsize=11)\n",
    "plt.ylabel('Coordenadas S-N',fontsize=11)\n",
    "plt.title('Dominio de Gravoso',fontsize = 22)\n",
    "plt.colorbar(shrink=0.7);\n",
    "plt.savefig(fname='Dominio de la capa 2 - Gravoso')\n",
    "\n",
    "# CELDAS ACTIVAS/INACTIVAS: Dominio de la capa 3: Finos \n",
    "plt.figure()\n",
    "fig = plt.figure(figsize=(11, 11))\n",
    "ax = fig.add_subplot(1, 1, 1, aspect='equal')\n",
    "\n",
    "plt.imshow(idomain[2],extent = extent)    \n",
    "plt.xlabel('Coordenadas W-E',fontsize=11)\n",
    "plt.ylabel('Coordenadas S-N',fontsize=11)\n",
    "plt.title('Dominio de Finos',fontsize = 22)\n",
    "plt.colorbar(shrink=0.7);\n",
    "#plt.savefig(fname='Dominio de la capa 3 - Finos')\n",
    "\n",
    "# CELDAS ACTIVAS/INACTIVAS: Dominio de la capa 4: Órganos\n",
    "plt.figure()\n",
    "fig = plt.figure(figsize=(11, 11))\n",
    "ax = fig.add_subplot(1, 1, 1, aspect='equal')\n",
    "\n",
    "plt.imshow(idomain[3],extent = extent)    \n",
    "plt.xlabel('Coordenadas W-E',fontsize=11)\n",
    "plt.ylabel('Coordenadas S-N',fontsize=11)\n",
    "plt.title('Dominio de Órganos',fontsize = 22)\n",
    "plt.colorbar(shrink=0.7);\n",
    "#plt.savefig(fname='Dominio de la capa 4 - Órganos')"
   ]
  },
  {
   "cell_type": "code",
   "execution_count": null,
   "metadata": {},
   "outputs": [],
   "source": [
    "# Horizontal hydraulic conductivity\n",
    "\n",
    "kx0 = 1.1921e-4*np.ones([nrow,ncol])\n",
    "# Hyraulic conductivy is modified on the layer 'Limos rojos'\n",
    "# only where the domain equals -1 on the next layers below it \n",
    "kx0[idomain[0] == -1] = 1.1921e-4\n",
    "kx0[idomain[1] == -1] = 1.1574e-7\n",
    "kx0[idomain[2] == -1] = 4.167e-5\n",
    "filnmkx0 = \"hk0.txt\"\n",
    "np.savetxt(os.path.join(workspace,filnmkx0),kx0)\n",
    "\n",
    "kx1 = 1.1921e-4*np.ones([nrow,ncol])\n",
    "filnmkx1 = \"hk1.txt\"\n",
    "np.savetxt(os.path.join(workspace,filnmkx1),kx1)\n",
    "\n",
    "kx2 = 1.1574e-7*np.ones([nrow,ncol])\n",
    "filnmkx2 = \"hk2.txt\"\n",
    "np.savetxt(os.path.join(workspace,filnmkx2),kx2)\n",
    "\n",
    "kx3 = 4.167e-5*np.ones([nrow,ncol])\n",
    "filnmkx3 = \"hk3.txt\"\n",
    "np.savetxt(os.path.join(workspace,filnmkx3),kx3)\n",
    "\n",
    "kx=[\"hk0.txt\",\"hk1.txt\",\"hk2.txt\",\"hk3.txt\"]\n",
    "\n",
    "# Vertical hydraulic conductivity\n",
    "\n",
    "kz0 = 2.1991e-5*np.ones([nrow,ncol])\n",
    "# Hyraulic conductivy is modified on the layer 'Limos rojos'\n",
    "# only where the domain equals -1 on the next layers below it \n",
    "kz0[idomain[0] == -1] = 2.1991e-5\n",
    "kz0[idomain[1] == -1] = 1.0417e-7\n",
    "kz0[idomain[2] == -1] = 1.736e-6\n",
    "filnmkz0 = \"vk0.txt\"\n",
    "np.savetxt(os.path.join(workspace,filnmkz0),kz0)\n",
    "\n",
    "kz1 = 2.1991e-5*np.ones([nrow,ncol])\n",
    "filnmkz1 = \"vk1.txt\"\n",
    "np.savetxt(os.path.join(workspace,filnmkz1),kz1)\n",
    "\n",
    "kz2 = 1.0417e-7*np.ones([nrow,ncol])\n",
    "filnmkz2 = \"vk2.txt\"\n",
    "np.savetxt(os.path.join(workspace,filnmkz2),kz2)\n",
    "\n",
    "kz3 = 1.736e-6*np.ones([nrow,ncol])\n",
    "filnmkz3 = \"vk3.txt\"\n",
    "np.savetxt(os.path.join(workspace,filnmkz3),kz3)\n",
    "\n",
    "kz=[\"vk0.txt\",\"vk1.txt\",\"vk2.txt\",\"vk3.txt\"]"
   ]
  },
  {
   "cell_type": "markdown",
   "metadata": {},
   "source": [
    "### Hydraulic conductivities graphic representation"
   ]
  },
  {
   "cell_type": "markdown",
   "metadata": {},
   "source": [
    "### 1. Horizontal Conductivity"
   ]
  },
  {
   "cell_type": "code",
   "execution_count": null,
   "metadata": {},
   "outputs": [],
   "source": [
    "plt.figure()\n",
    "fig = plt.figure(figsize=(11, 11))\n",
    "ax = fig.add_subplot(1, 1, 1, aspect='equal')\n",
    "\n",
    "plt.imshow((kx0),extent = extent)    \n",
    "plt.xlabel('Coordenadas W-E',fontsize=11)\n",
    "plt.ylabel('Coordenadas S-N',fontsize=11)\n",
    "plt.title('kx | Capa 1: Limos Rojos',fontsize = 22)\n",
    "plt.colorbar(shrink=0.7);\n",
    "plt.savefig(fname='Conductividad Kx de la capa 1 - Limos Rojos')\n",
    "\n",
    "plt.figure()\n",
    "fig = plt.figure(figsize=(11, 11))\n",
    "ax = fig.add_subplot(1, 1, 1, aspect='equal')\n",
    "\n",
    "plt.imshow((kx1),extent = extent)    \n",
    "plt.xlabel('Coordenadas W-E',fontsize=11)\n",
    "plt.ylabel('Coordenadas S-N',fontsize=11)\n",
    "plt.title('kx | Capa 2: Gravoso',fontsize = 22)\n",
    "plt.colorbar(shrink=0.7);\n",
    "#plt.savefig(fname='Conductividad Kx de la capa 2 - Gravoso')\n",
    "\n",
    "plt.figure()\n",
    "fig = plt.figure(figsize=(11, 11))\n",
    "ax = fig.add_subplot(1, 1, 1, aspect='equal')\n",
    "\n",
    "plt.imshow((kx2),extent = extent)    \n",
    "plt.xlabel('Coordenadas W-E',fontsize=11)\n",
    "plt.ylabel('Coordenadas S-N',fontsize=11)\n",
    "plt.title('kx | Capa 3: Finos',fontsize = 22)\n",
    "plt.colorbar(shrink=0.7);\n",
    "#plt.savefig(fname='Conductividad Kx de la capa 3 - Finos')\n",
    "\n",
    "plt.figure()\n",
    "fig = plt.figure(figsize=(11, 11))\n",
    "ax = fig.add_subplot(1, 1, 1, aspect='equal')\n",
    "\n",
    "plt.imshow((kx3),extent = extent)    \n",
    "plt.xlabel('Coordenadas W-E',fontsize=11)\n",
    "plt.ylabel('Coordenadas S-N',fontsize=11)\n",
    "plt.title('kx | Capa 4: Órganos',fontsize = 22)\n",
    "plt.colorbar(shrink=0.7);\n",
    "#plt.savefig(fname='Conductividad Kx de la capa 4 - Órganos')"
   ]
  },
  {
   "cell_type": "markdown",
   "metadata": {},
   "source": [
    "### 2. Vertical Conductivity kz"
   ]
  },
  {
   "cell_type": "code",
   "execution_count": null,
   "metadata": {},
   "outputs": [],
   "source": [
    "plt.figure()\n",
    "fig = plt.figure(figsize=(11, 11))\n",
    "ax = fig.add_subplot(1, 1, 1, aspect='equal')\n",
    "\n",
    "plt.imshow((kz0),extent = extent)    \n",
    "plt.xlabel('Coordenadas W-E',fontsize=11)\n",
    "plt.ylabel('Coordenadas S-N',fontsize=11)\n",
    "plt.title('kz | Capa 1: Limos Rojos',fontsize = 22)\n",
    "plt.colorbar(shrink=0.7);\n",
    "#plt.savefig(fname='Conductividad Kz de la capa 1 - Limos Rojos')\n",
    "\n",
    "plt.figure()\n",
    "fig = plt.figure(figsize=(11, 11))\n",
    "ax = fig.add_subplot(1, 1, 1, aspect='equal')\n",
    "\n",
    "plt.imshow((kz1),extent = extent)    \n",
    "plt.xlabel('Coordenadas W-E',fontsize=11)\n",
    "plt.ylabel('Coordenadas S-N',fontsize=11)\n",
    "plt.title('kz | Capa 2: Gravoso',fontsize = 22)\n",
    "plt.colorbar(shrink=0.7);\n",
    "#plt.savefig(fname='Conductividad Kz de la capa 2 - Gravoso')\n",
    "\n",
    "plt.figure()\n",
    "fig = plt.figure(figsize=(11, 11))\n",
    "ax = fig.add_subplot(1, 1, 1, aspect='equal')\n",
    "\n",
    "plt.imshow((kz2),extent = extent)    \n",
    "plt.xlabel('Coordenadas W-E',fontsize=11)\n",
    "plt.ylabel('Coordenadas S-N',fontsize=11)\n",
    "plt.title('kz | Capa 3: Finos',fontsize = 22)\n",
    "plt.colorbar(shrink=0.7);\n",
    "#plt.savefig(fname='Conductividad Kz de la capa 3 - Finos')\n",
    "\n",
    "plt.figure()\n",
    "fig = plt.figure(figsize=(11, 11))\n",
    "ax = fig.add_subplot(1, 1, 1, aspect='equal')\n",
    "\n",
    "plt.imshow((kz3),extent = extent)    \n",
    "plt.xlabel('Coordenadas W-E',fontsize=11)\n",
    "plt.ylabel('Coordenadas S-N',fontsize=11)\n",
    "plt.title('kz | Capa 4: Órganos',fontsize = 22)\n",
    "plt.colorbar(shrink=0.7);\n",
    "#plt.savefig(fname='Conductividad Kz de la capa 4 - Órganos')"
   ]
  },
  {
   "cell_type": "markdown",
   "metadata": {},
   "source": [
    "### Adding model river"
   ]
  },
  {
   "cell_type": "code",
   "execution_count": null,
   "metadata": {},
   "outputs": [],
   "source": [
    "# The raster contains real value numbers greater than zero in some cells of the array. \n",
    "# These are taken into account to create the stres_period_data \n",
    "# stressperioddata = (layer, row, col, stage, con., bottom)\n",
    "river_values = np.column_stack(np.where(RiverStage > 0))\n",
    "row = river_values[:, 0] #280\n",
    "col = river_values[:, 1] #240\n",
    "\n",
    "df_stage = pd.DataFrame(RiverStage)\n",
    "stage = df_stage.to_numpy()[RiverStage > 0]\n",
    "\n",
    "df_bottom = pd.DataFrame(RiverBottom)\n",
    "bottom = df_bottom.to_numpy()[RiverBottom > 0]"
   ]
  },
  {
   "cell_type": "code",
   "execution_count": null,
   "metadata": {},
   "outputs": [],
   "source": [
    "# STRESS_PERIOD_DATA FOR RIVERS\n",
    "spd_river = [[(0, row[i], col[i]), stage[i], 1.157e-4, bottom[i]]for i in range(len(row))]"
   ]
  },
  {
   "cell_type": "markdown",
   "metadata": {},
   "source": [
    "### Water Head - CHD Package"
   ]
  },
  {
   "cell_type": "markdown",
   "metadata": {},
   "source": [
    "There are constant head values for layer 2 (Gravoso) and layer 4 (Órganos)"
   ]
  },
  {
   "cell_type": "code",
   "execution_count": null,
   "metadata": {},
   "outputs": [],
   "source": [
    "# Same here, we select real values that are greater than zero. But this time is just to plot\n",
    "# stressperioddata = (layer, row, col, head)\n",
    "# CAPA 2\n",
    "f_chd_2 = np.column_stack(np.where(headData_2 > 0))\n",
    "row_chd_2 = f_chd_2[:, 0] #280\n",
    "col_chd_2 = f_chd_2[:, 1] #240\n",
    "\n",
    "df_chd = pd.DataFrame(headData_2)\n",
    "head_2 = df_chd.to_numpy()[headData_2 > 0].astype(float)"
   ]
  },
  {
   "cell_type": "code",
   "execution_count": null,
   "metadata": {},
   "outputs": [],
   "source": [
    "# Same here, we select real values that are greater than zero. But this time is just to plot\n",
    "# stressperioddata = (layer, row, col, head)\n",
    "# CAPA 4\n",
    "f_chd_4 = np.column_stack(np.where(headData_4 > 0))\n",
    "row_chd_4 = f_chd_4[:, 0] #280\n",
    "col_chd_4 = f_chd_4[:, 1] #240\n",
    "\n",
    "df_chd = pd.DataFrame(headData_4)\n",
    "head_4 = df_chd.to_numpy()[headData_4 > 0].astype(float)"
   ]
  },
  {
   "cell_type": "code",
   "execution_count": null,
   "metadata": {},
   "outputs": [],
   "source": [
    "spd_chd_2 = [] #Gravoso\n",
    "for m in range(len(row_chd_2)):\n",
    "    spd_chd_2.append([(1, row_chd_2[m], col_chd_2[m]), head_2[m]])\n",
    "    \n",
    "spd_chd_4 = [] #Órganos\n",
    "for m in range(len(row_chd_4)):\n",
    "    spd_chd_4.append([(3, row_chd_4[m], col_chd_4[m]), head_4[m]])"
   ]
  },
  {
   "cell_type": "code",
   "execution_count": null,
   "metadata": {},
   "outputs": [],
   "source": [
    "list_spd_chd = spd_chd_2 + spd_chd_4"
   ]
  },
  {
   "cell_type": "markdown",
   "metadata": {},
   "source": [
    "### Head Observations - OBS Package"
   ]
  },
  {
   "cell_type": "markdown",
   "metadata": {},
   "source": [
    "Same on layers 2 and 4. Observations are added in both layers as follows:"
   ]
  },
  {
   "cell_type": "code",
   "execution_count": null,
   "metadata": {},
   "outputs": [],
   "source": [
    "# Se carga el raster de observaciones\n",
    "# Capa 2: Gravoso\n",
    "pathobs = os.path.join(Insumos,'headsobs_layer2.tif\")\n",
    "headopenf = gdal.Open(pathobs)\n",
    "headsobs_2 = headopenf.GetRasterBand(1).ReadAsArray()\n",
    "\n",
    "#OBS\n",
    "stackobs_2 = np.column_stack(np.where(headsobs_2 > 0))\n",
    "row_obs_2 = stackobs_2[:, 0] #280\n",
    "col_obs_2 = stackobs_2[:, 1] #240\n",
    "\n",
    "dfobs_2 = pd.DataFrame(headsobs_2)\n",
    "headobs_2 = dfobs_2.to_numpy()[headsobs_2 > 0]"
   ]
  },
  {
   "cell_type": "code",
   "execution_count": null,
   "metadata": {},
   "outputs": [],
   "source": [
    "# Se carga el raster de observaciones\n",
    "# Capa 4: Órganos\n",
    "pathobs = os.path.join(Insumos, \"headsobs_layer4.tif\")\n",
    "headopenf = gdal.Open(pathobs)\n",
    "headsobs_4 = headopenf.GetRasterBand(1).ReadAsArray()\n",
    "\n",
    "#OBS\n",
    "stackobs_4 = np.column_stack(np.where(headsobs_4 > 0))\n",
    "row_obs_4 = stackobs_4[:, 0] #280\n",
    "col_obs_4 = stackobs_4[:, 1] #240\n",
    "\n",
    "dfobs_4 = pd.DataFrame(headsobs_4)\n",
    "headobs_4 = dfobs_4.to_numpy()[headsobs_4 > 0]"
   ]
  },
  {
   "cell_type": "code",
   "execution_count": null,
   "metadata": {},
   "outputs": [],
   "source": [
    "obs_2 = [(\"{}_{}_{}\".format(2, row_obs_2[i],col_obs_2[i]),\n",
    "            \"HEAD\",\n",
    "            (1, row_obs_2[i], col_obs_2[i])) for i in range(len(row_obs_2))]\n",
    "\n",
    "obs_4 = [(\"{}_{}_{}\".format(4, row_obs_4[i],col_obs_4[i]),\n",
    "            \"HEAD\",\n",
    "            (3, row_obs_4[i], col_obs_4[i])) for i in range(len(row_obs_4))]"
   ]
  },
  {
   "cell_type": "code",
   "execution_count": null,
   "metadata": {
    "scrolled": true
   },
   "outputs": [],
   "source": [
    "obs = obs_2 + obs_4"
   ]
  },
  {
   "cell_type": "code",
   "execution_count": null,
   "metadata": {},
   "outputs": [],
   "source": [
    "obs_recarray = {('heads.csv'):obs}"
   ]
  },
  {
   "cell_type": "markdown",
   "metadata": {},
   "source": [
    "### MF6 Packages and model execution"
   ]
  },
  {
   "cell_type": "code",
   "execution_count": null,
   "metadata": {},
   "outputs": [],
   "source": [
    "### Paquetes de Modflow 6\n",
    "\n",
    "# Crear el paquete de simulación SIM\n",
    "sim = flopy.mf6.MFSimulation(sim_name=name, version='mf6', exe_name=exe_name, sim_ws=workspace)\n",
    "\n",
    "# Crear el paquete de discretización temporal TDIS\n",
    "tdis = flopy.mf6.ModflowTdis(sim, pname='tdis', time_units='SECONDS', nper=1, perioddata=[(1.0, 1, 1.0)])\n",
    "\n",
    "# Crear el objeto GWF del modelo\n",
    "gwf = flopy.mf6.ModflowGwf(sim, modelname=name, model_nam_file='{}.nam'.format(name),version='mf6',exe_name=exe_name, print_flows=True,save_flows=True, newtonoptions=True)\n",
    "\n",
    "# Crear el paquete de solucionador del modelo iterativo (IMS)\n",
    "# Simple complexity; used for models not including stress or models either\n",
    "# confined or w/ a single unconfined layer.\n",
    "ims = flopy.mf6.ModflowIms(sim, print_option='ALL', pname='ims', complexity='COMPLEX', under_relaxation='DBD', linear_acceleration='BICGSTAB')\n",
    "\n",
    "# Crear el paquete de discretización\n",
    "dis = flopy.mf6.ModflowGwfdis(gwf, nlay=nlay, nrow=nrow, ncol=ncol, delc=delc, delr=delr, top=ztop, botm=zbot, idomain=idomain, length_units='METERS', xorigin=xll, yorigin=yll, filename='{}.dis'.format(name))\n",
    "\n",
    "# Create the initial conditions package IC (former BAS). STRT es la cabeza inicial al inicio de la simulación del modelo GWF. Debe ser especificado para todas las simulaciones incluso en estado permanente.\n",
    "ic = flopy.mf6.ModflowGwfic(gwf, pname='ic', strt=strt)"
   ]
  },
  {
   "cell_type": "code",
   "execution_count": null,
   "metadata": {},
   "outputs": [],
   "source": [
    "# Crear el paquete node property flow (former LPF)\n",
    "# icelltype: 1=Convertible 0=Confined -1=Unconfined\n",
    "npf = flopy.mf6.ModflowGwfnpf(gwf, pname='npf', k=kx, k33=kz, icelltype =0, save_flows=True, save_specific_discharge=True)"
   ]
  },
  {
   "cell_type": "code",
   "execution_count": null,
   "metadata": {},
   "outputs": [],
   "source": [
    "# STRESS_PERIOD_DATA FOR CONSTANT HEADS\n",
    "##spd_chd = [[(1, row_chd[m], col_chd[m]), head[m]+10.] for m in range(len(row_chd))]\n",
    "# Create constant head package\n",
    "chd = flopy.mf6.ModflowGwfchd(gwf, pname='chd', maxbound=len(head_2)+len(head_4), save_flows=True, stress_period_data = list_spd_chd)"
   ]
  },
  {
   "cell_type": "code",
   "execution_count": null,
   "metadata": {},
   "outputs": [],
   "source": [
    "# Create river package\n",
    "# STRESS_PERIOD_DATA FOR RIVERS\n",
    "spd_river = [[(0, row[i], col[i]), stage[i], 1.157e-4, bottom[i]]for i in range(len(row))]\n",
    "river = flopy.mf6.ModflowGwfriv(gwf, pname='riv', save_flows=True, maxbound=len(row), stress_period_data = spd_river)"
   ]
  },
  {
   "cell_type": "code",
   "execution_count": null,
   "metadata": {},
   "outputs": [],
   "source": [
    "# OBS PACKAGE\n",
    "obs_package = flopy.mf6.ModflowUtlobs(gwf,pname='head_obs',filename='{}.obs'.format(name), print_input=True,\n",
    "                                         continuous=obs_recarray)"
   ]
  },
  {
   "cell_type": "code",
   "execution_count": null,
   "metadata": {},
   "outputs": [],
   "source": [
    "### Ejecución del modelo\n",
    "\n",
    "#Output Control\n",
    "oc   = flopy.mf6.ModflowGwfoc(gwf,budget_filerecord='{}.cbc'.format(name),\n",
    "                            head_filerecord='{}.hds'.format(name),\n",
    "                            saverecord=[('HEAD', 'ALL'), \n",
    "                                        ('BUDGET', 'ALL')],\n",
    "                            printrecord=[('BUDGET', 'ALL')])\n",
    "#Write the datasets\n",
    "sim.write_simulation()\n",
    "\n",
    "# RUN THE SIMULATION\n",
    "sim.run_simulation()"
   ]
  },
  {
   "cell_type": "code",
   "execution_count": null,
   "metadata": {},
   "outputs": [],
   "source": [
    "#list_spd_chd for m in range(len(row_chdO)+len(row_chd))"
   ]
  },
  {
   "cell_type": "code",
   "execution_count": null,
   "metadata": {},
   "outputs": [],
   "source": [
    "np.savetxt(os.path.join(workspace, 'mf6model.dis_idomain_layer0.txt'), idomain[0,:,:])\n",
    "np.savetxt(os.path.join(workspace, 'mf6model.dis_idomain_layer1.txt'), idomain[1,:,:])\n",
    "np.savetxt(os.path.join(workspace, 'mf6model.dis_idomain_layer2.txt'), idomain[2,:,:])\n",
    "np.savetxt(os.path.join(workspace, 'mf6model.dis_idomain_layer3.txt'), idomain[3,:,:])"
   ]
  },
  {
   "cell_type": "code",
   "execution_count": null,
   "metadata": {},
   "outputs": [],
   "source": [
    "#np.savetxt(os.path.join(workspace, 'mf6model.npf_hk_layer0.txt'), kx[0,:,:])\n",
    "#np.savetxt(os.path.join(workspace, 'mf6model.npf_hk_layer1.txt'), kx[1,:,:])\n",
    "#np.savetxt(os.path.join(workspace, 'mf6model.npf_hk_layer2.txt'), kx[2,:,:])\n",
    "#np.savetxt(os.path.join(workspace, 'mf6model.npf_hk_layer3.txt'), kx[3,:,:])"
   ]
  },
  {
   "cell_type": "code",
   "execution_count": null,
   "metadata": {},
   "outputs": [],
   "source": [
    "#np.savetxt(os.path.join(workspace, 'mf6model.npf_vk_layer0.txt'), kz[0,:,:])\n",
    "#np.savetxt(os.path.join(workspace, 'mf6model.npf_vk_layer1.txt'), kz[1,:,:])\n",
    "#np.savetxt(os.path.join(workspace, 'mf6model.npf_vk_layer2.txt'), kz[2,:,:])\n",
    "#np.savetxt(os.path.join(workspace, 'mf6model.npf_vk_layer3.txt'), kz[3,:,:])"
   ]
  },
  {
   "cell_type": "markdown",
   "metadata": {},
   "source": [
    "### Post Process"
   ]
  },
  {
   "cell_type": "code",
   "execution_count": null,
   "metadata": {},
   "outputs": [],
   "source": [
    "Map=RiverStage\n",
    "plt.figure()\n",
    "fig = plt.figure(figsize=(11, 11))\n",
    "ax = fig.add_subplot(1, 1, 1, aspect='equal')\n",
    "\n",
    "plt.imshow(Map,extent = extent)    \n",
    "plt.xlabel('Coordenadas W-E',fontsize=11)\n",
    "plt.ylabel('Coordenadas S-N',fontsize=11)\n",
    "plt.title('Carga hidráulica de los ríos',fontsize = 22)\n",
    "norm= mpl.colors.Normalize(vmin=abs(Map).min(), \n",
    "                           vmax=Map.max())\n",
    "sm = plt.cm.ScalarMappable(norm=norm)\n",
    "sm.set_array([])\n",
    "fig.colorbar(sm, shrink=0.7);"
   ]
  },
  {
   "cell_type": "code",
   "execution_count": null,
   "metadata": {
    "scrolled": true
   },
   "outputs": [],
   "source": [
    "# Se carga el archivo de carga hidráulica\n",
    "dfcellhead=pd.read_csv(os.path.join(Insumos,'ConstantHead.csv', sep=',')\n",
    "\n",
    "#row_chd = dfhead.values[:,0].astype(int) #280\n",
    "#col_chd = dfhead.values[:,1].astype(int) #240\n",
    "cellhead = dfcellhead.values[:,2].astype(float)"
   ]
  },
  {
   "cell_type": "code",
   "execution_count": null,
   "metadata": {
    "scrolled": true
   },
   "outputs": [],
   "source": [
    "# Cabeza de agua, en la capa 2.\n",
    "plt.figure()\n",
    "fig = plt.figure(figsize=(11, 11))\n",
    "ax = fig.add_subplot(1, 1, 1, aspect='equal')\n",
    "\n",
    "hdsx = [sr.xcentergrid[r-1,c-1] for r,c in dfcellhead.loc[:,[\"row\",\"col\"]].values]\n",
    "hdsy = [sr.ycentergrid[r-1,c-1] for r,c in dfcellhead.loc[:,[\"row\",\"col\"]].values]\n",
    "ax.scatter(hdsx,hdsy,marker='.', s=80,c='r')\n",
    "plt.imshow(idomain[1], extent=extent)  \n",
    "\n",
    "plt.xlabel('Coordenadas W-E',fontsize=11)\n",
    "plt.ylabel('Coordenadas S-N',fontsize=11)\n",
    "plt.title('Carga hidráulica constante | Capa 2: Gravoso',fontsize = 16)\n",
    "\n",
    "#norm= mpl.colors.Normalize(vmin=head.min(), \n",
    "#                           vmax=head.max())\n",
    "#sm = plt.cm.ScalarMappable(norm=norm)\n",
    "#sm.set_array([])\n",
    "#fig.colorbar(sm, shrink=0.7);\n",
    "plt.savefig(fname='Carga hidráulica cte en la capa 2')"
   ]
  },
  {
   "cell_type": "code",
   "execution_count": null,
   "metadata": {},
   "outputs": [],
   "source": [
    "#Extracción de resultados obtenidos de carga hidráulica\n",
    "mfheads = flopy.utils.HeadFile(os.path.join(workspace,'mf6model.hds')\n",
    "times = mfheads.get_times() \n",
    "head = mfheads.get_data()"
   ]
  },
  {
   "cell_type": "code",
   "execution_count": null,
   "metadata": {},
   "outputs": [],
   "source": [
    "#Plotting head results for any layer (ilay)\n",
    "fig = plt.figure(figsize=(11,11))\n",
    "ax = fig.add_subplot(1, 1, 1, aspect='equal')\n",
    "\n",
    "ilay=1\n",
    "\n",
    "modelmap = flopy.plot.PlotMapView(model=gwf, layer=ilay)\n",
    "quadmesh = modelmap.plot_ibound()\n",
    "quadmesh = modelmap.plot_array(head[ilay])\n",
    "linecollection = modelmap.plot_grid(linewidth=0.4)\n",
    "hmesh= modelmap.plot_array(head[ilay],masked_values=[-1e30,1e30],cmap=\"viridis\")\n",
    "plt.colorbar(hmesh)\n",
    "cont = modelmap.contour_array(head[ilay],masked_values=[-1e30,1e30],levels=np.linspace(700,1200,10),colors=\"black\")\n",
    "plt.clabel(cont,fmt=\"%1.0f\")\n",
    "\n",
    "\n",
    "plt.xlabel('Coordenadas W-E',fontsize=11)\n",
    "plt.ylabel('Coordenadas S-N',fontsize=11)\n",
    "plt.title('',fontsize = 22);\n",
    "plt.savefig(fname='Carga hidráulica cte en la capa 4')"
   ]
  },
  {
   "cell_type": "code",
   "execution_count": null,
   "metadata": {},
   "outputs": [],
   "source": [
    "# Load binary grid file\n",
    "fname = os.path.join(workspace, name + '.dis.grb')\n",
    "\n",
    "# load the heads and budget files\n",
    "fname = os.path.join(workspace, name + '.hds')\n",
    "hdobj = flopy.utils.HeadFile(fname)\n",
    "head = hdobj.get_data()\n",
    "\n",
    "fname = os.path.join(workspace, name + '.cbc')\n",
    "cbb = flopy.utils.CellBudgetFile(fname, precision='double')\n",
    "spdis = cbb.get_data(text='DATA-SPDIS')[0]\n",
    "#qx = spdis['qx'].reshape(nlay,nrow,ncol)\n",
    "#qy = spdis['qy'].reshape(nlay, nrow, ncol)\n",
    "#qz = spdis['qz'].reshape(nlay, nrow, ncol)"
   ]
  },
  {
   "cell_type": "code",
   "execution_count": null,
   "metadata": {},
   "outputs": [],
   "source": [
    "\n",
    "fig = plt.figure(figsize=(18,15))\n",
    "fig.subplots_adjust(wspace=0.05,hspace=0.3)\n",
    "#teración para cada capa\n",
    "for layer in range(4):\n",
    "    ax  = fig.add_subplot(2,2,layer+1, aspect='equal')\n",
    "    ml = flopy.plot.PlotMapView(model=gwf,layer=layer)\n",
    "    hmesh=ml.plot_array(head[layer],masked_values=[-1e30,1e30],cmap=\"viridis\")\n",
    "    #hmesh.set_clim(0,10)\n",
    "    \n",
    "    #plot contour\n",
    "    cont = ml.contour_array(head[layer],masked_values=[-1e30,1e30],levels=np.linspace(600,1050,10),colors=\"black\",cmap=\"viridis\")\n",
    "    plt.clabel(cont,fmt=\"%1i\")  \n",
    "   \n",
    "    #plot bc \n",
    "    ml.plot_bc(\"riv\", color=\"cyan\")\n",
    "    ml.plot_bc(\"chd\",color=\"cyan\",alpha=0.5)\n",
    "    \n",
    "    #set labels\n",
    "    plt.title(\"layer {}\".format(layer))\n",
    "    plt.colorbar(hmesh)\n",
    "    plt.xlabel(\"X [m]\")\n",
    "    plt.ylabel(\"Y [m]\")    "
   ]
  },
  {
   "cell_type": "code",
   "execution_count": null,
   "metadata": {},
   "outputs": [],
   "source": [
    "fig = plt.figure(figsize=(18,15))\n",
    "fig.subplots_adjust(wspace=0.05,hspace=0.3)\n",
    "#iteración para cada capa\n",
    "for layer in range(4):\n",
    "    ax  = fig.add_subplot(2,2,layer+1, aspect='equal')\n",
    "    \n",
    "    \n",
    "    #plot contour\n",
    "    x = np.linspace(0, 12000, 240)\n",
    "    y = np.linspace(0, 14000, 280)\n",
    "    y = y[::-1]\n",
    "    X, Y = np.meshgrid(x, y)\n",
    "    c = plt.contour(X, Y, head[layer])\n",
    "\n",
    "    dy, dx = np.gradient(-head[layer])\n",
    "    ax.streamplot(X, Y, dx, dy, density=1.1, color='0.8')\n",
    "    plt.clabel(c, fmt='%2.1f')\n",
    "  \n",
    "    #plot bc\n",
    "    ml = flopy.plot.PlotMapView(model=gwf,layer=layer)\n",
    "    ml.plot_bc(\"riv\", color=\"cyan\")\n",
    "    ml.plot_bc(\"chd\",color=\"cyan\",alpha=0.5)\n",
    "    \n",
    "    #set labels\n",
    "    plt.title(\"layer {}\".format(layer))\n",
    "    plt.colorbar(hmesh)\n",
    "    plt.xlabel(\"X [m]\")\n",
    "    plt.ylabel(\"Y [m]\") "
   ]
  },
  {
   "cell_type": "code",
   "execution_count": null,
   "metadata": {},
   "outputs": [],
   "source": [
    "fig = plt.figure(figsize=(11,11))\n",
    "ax = fig.add_subplot(1, 1, 1, aspect='equal')\n",
    "\n",
    "layer=3\n",
    "\n",
    "\n",
    "x = np.linspace(0, 12000, 240)\n",
    "y = np.linspace(0, 14000, 280)\n",
    "y = y[::-1]\n",
    "\n",
    "X, Y = np.meshgrid(x, y)\n",
    "c = plt.contour(X,Y, head[layer], np.arange(600,1100,100))\n",
    "\n",
    "dy, dx = np.gradient(-head[layer])\n",
    "\n",
    "ax.streamplot(X, Y, dx,dy, density=1.1, color='0.8')\n",
    "\n",
    "plt.clabel(c, fmt='%2.1f')\n",
    "\n",
    "plt.xlabel('Coordenadas W-E',fontsize=20)\n",
    "plt.ylabel('Coordenadas S-N',fontsize=20)\n",
    "plt.title('Carga hidráulica en t=0 días',fontsize = 25)\n",
    "\n",
    "plt.axis('scaled');"
   ]
  },
  {
   "cell_type": "code",
   "execution_count": null,
   "metadata": {},
   "outputs": [],
   "source": [
    "fig = plt.figure(figsize=(11,11))\n",
    "ax = fig.add_subplot(1, 1, 1, aspect='equal')\n",
    "\n",
    "layer=0\n",
    "\n",
    "x = np.linspace(0, 12000, 240)\n",
    "y = np.linspace(0, 14000, 280)\n",
    "y = y[::-1]\n",
    "\n",
    "X, Y = np.meshgrid(x, y)\n",
    "c = plt.contour(X, Y, head[layer])\n",
    "\n",
    "dy, dx = np.gradient(-head[layer])\n",
    "ax.streamplot(X, Y, dx, dy, density=1.5, color='0.8')\n",
    "\n",
    "plt.clabel(c, fmt='%2.1f')\n",
    "\n",
    "plt.xlabel('Coordenadas W-E',fontsize=11)\n",
    "plt.ylabel('Coordenadas S-N',fontsize=11)\n",
    "plt.title('Contorno de carga hidráulica en t=0 días',fontsize = 15)\n",
    "\n",
    "plt.axis('scaled');"
   ]
  },
  {
   "cell_type": "code",
   "execution_count": null,
   "metadata": {},
   "outputs": [],
   "source": [
    "fig = plt.figure(figsize=(18,15))\n",
    "fig.subplots_adjust(wspace=1,hspace=1)\n",
    "pmv = flopy.plot.PlotMapView(gwf, layer=3)\n",
    "pmv.plot_array(head)\n",
    "#pmv.plot_grid()\n",
    "pmv.contour_array(head,levels=np.linspace(500,1050,5), linewidths=.4)\n",
    "pmv.plot_specific_discharge(spdis, color='white')"
   ]
  },
  {
   "cell_type": "code",
   "execution_count": null,
   "metadata": {},
   "outputs": [],
   "source": [
    "import matplotlib.patches as mpatches\n",
    "gwf.modelgrid.set_coord_info(xoff=xmin, yoff=ymin, angrot=0, epsg=3116)\n",
    "fig = plt.figure(figsize=(11, 11))\n",
    "\n",
    "ax = fig.add_subplot(1, 1, 1, aspect='equal')\n",
    "modelmap = flopy.plot.PlotMapView(model=gwf, layer=0)\n",
    "#ch: constant heads\n",
    "#vpt: vertical pass through cells\n",
    "quadmesh = modelmap.plot_ibound(color_noflow='cyan', color_ch='blue', color_vpt='red')\n",
    "quadmesh = modelmap.plot_bc('riv', color='green')\n",
    "quadmesh = modelmap.plot_bc('chd')\n",
    "\n",
    "plt.xlabel('Coordenadas W-E',fontsize=11)\n",
    "plt.ylabel('Coordenadas S-N',fontsize=11)\n",
    "\n",
    "plt.title('Condiciones de frontera',fontsize = 22)\n",
    "redpatch = mpatches.Patch(color='red', label='Vertical pass-through cells')\n",
    "bluepatch = mpatches.Patch(color='blue', label='Constant heads')\n",
    "greenpatch = mpatches.Patch(color='green', label='Rivers')\n",
    "cyanpatch = mpatches.Patch(color='cyan', label='No flow cells')\n",
    "plt.legend(handles=[redpatch, bluepatch, greenpatch, cyanpatch])\n",
    "\n",
    "linecollection = modelmap.plot_grid(linewidth=0.4)"
   ]
  },
  {
   "cell_type": "code",
   "execution_count": null,
   "metadata": {},
   "outputs": [],
   "source": [
    "gwf.modelgrid.set_coord_info(xoff=xmin, yoff=ymin, angrot=0, epsg=3116)\n",
    "\n",
    "fig = plt.figure(figsize=(11,11))\n",
    "ax = fig.add_subplot(1, 1, 1, aspect='equal')\n",
    "modelmap = flopy.plot.PlotMapView(model=gwf, layer=3);\n",
    "RIV = modelmap.plot_bc('RIV', label  = 'Rivers', color = 'green', plotAll=True)\n",
    "GHB = modelmap.plot_bc('CHD', label  = 'General head', color = 'blue', plotAll=True)\n",
    "modelmap.plot_inactive()\n",
    "\n",
    "plt.xlabel('Coordenadas W-E',fontsize=11)\n",
    "plt.ylabel('Coordenadas S-N',fontsize=11)\n",
    "\n",
    "plt.title('Condiciones de frontera',fontsize = 22)\n",
    "blackpatch = mpatches.Patch(color='black', label='Inactive cells')\n",
    "bluepatch = mpatches.Patch(color='blue', label='Constant heads')\n",
    "greenpatch = mpatches.Patch(color='green', label='Rivers')\n",
    "plt.legend(handles=[blackpatch, bluepatch, greenpatch])\n",
    "\n",
    "linecollection = modelmap.plot_grid(linewidth=0.4);"
   ]
  },
  {
   "cell_type": "code",
   "execution_count": null,
   "metadata": {},
   "outputs": [],
   "source": [
    "gwf.modelgrid.set_coord_info(xoff=xmin, yoff=ymin, angrot=0, epsg=3116)\n",
    "plt.figure()\n",
    "fig = plt.figure(figsize=(11, 11))\n",
    "ax = fig.add_subplot(1, 1, 1, aspect='equal')\n",
    "\n",
    "x1, y1 = [0,12000], [7000, 7000]\n",
    "x2, y2 = [6000, 6000], [0, 14000]\n",
    "corteh = plt.plot(x1, y1, color='m', linestyle='--', lw=3)\n",
    "cortev = plt.plot(x2, y2, color='r', linestyle='--', lw=3)\n",
    "red_patch = mpatches.Patch(color='red', label='Corte 1: Columna 120')\n",
    "mag_patch = mpatches.Patch(color='m', label='Corte 2: Fila 140')\n",
    "plt.legend(handles=[red_patch,mag_patch])\n",
    "\n",
    "pmv = flopy.plot.PlotMapView(gwf, ax=ax, layer=0)\n",
    "\n",
    "pmv.plot_array(ztop);"
   ]
  },
  {
   "cell_type": "code",
   "execution_count": null,
   "metadata": {},
   "outputs": [],
   "source": [
    "#fig = plt.figure(figsize=(25,15))\n",
    "#ax = fig.add_subplot(1, 1, 1)\n",
    "#modelxsect = flopy.plot.PlotCrossSection(model=gwf, line={'column': 120})\n",
    "#linecollection = modelxsect.plot_grid()\n",
    "#plt.gca().invert_xaxis()\n",
    "#plt.xlabel('Coordenadas W-E',fontsize=20)\n",
    "#plt.ylabel('Altura [m]',fontsize=20)\n",
    "#\n",
    "#plt.legend(handles=[red_patch], prop={'size': 15})\n",
    "#plt.title('Sección transversal con conductividad hidráulica horizontal',fontsize = 25)\n",
    "#\n",
    "#modelxsect.plot_array(kx0);\n",
    "##kx[:,0,0]"
   ]
  },
  {
   "cell_type": "code",
   "execution_count": null,
   "metadata": {},
   "outputs": [],
   "source": [
    "#fig = plt.figure(figsize=(25,15))\n",
    "#ax = fig.add_subplot(1, 1, 1)\n",
    "#modelxsect = flopy.plot.PlotCrossSection(model=gwf, line={'row': 140})\n",
    "#linecollection = modelxsect.plot_grid()\n",
    "#plt.gca().invert_xaxis()\n",
    "#plt.xlabel('Coordenadas W-E',fontsize=20)\n",
    "#plt.ylabel('Altura [m]',fontsize=20)\n",
    "#\n",
    "#plt.legend(handles=[mag_patch], prop={'size': 15})\n",
    "#plt.title('Sección transversal con conductividad hidráulica vertical',fontsize = 25)\n",
    "#\n",
    "#modelxsect.plot_array(kz);\n",
    "#kz[:,0,0]"
   ]
  },
  {
   "cell_type": "code",
   "execution_count": null,
   "metadata": {},
   "outputs": [],
   "source": [
    "fpth = workspace + '/{}.hds'.format(name)\n",
    "hobj = flopy.utils.HeadFile(fpth)\n",
    "kstpkper = hobj.get_kstpkper()\n",
    "dpos = kstpkper[0]\n",
    "h = hobj.get_data(kstpkper=dpos)\n",
    "\n",
    "fpth = workspace + '/{}.cbc'.format(name)\n",
    "cobj = flopy.utils.CellBudgetFile(fpth, precision='double')\n",
    "ra = cobj.get_data(kstpkper=dpos, text='DATA-SPDIS')[0]\n",
    "\n",
    "fig, axes = plt.subplots(ncols=nlay, nrows=1, sharey=True)\n",
    "fig.set_figheight(10)\n",
    "fig.set_figwidth(15)\n",
    "for k, ax in enumerate(axes.flatten()):\n",
    "    mm = flopy.plot.PlotMapView(model=gwf, ax=ax, layer=k)\n",
    "    ax.set_title('Layer {}'.format(k+1))\n",
    "    ax.set_aspect('equal')\n",
    "    ax.set_xlim(0, 5000)\n",
    "    ax.set_ylim(0, 10000)\n",
    "    mm.plot_array(h, masked_values=[1e30, -1e30])\n",
    "    c = mm.contour_array(h, masked_values=[1e30, -1e30], colors='yellow', \n",
    "                         levels=np.arange(500, 1000, 100))\n",
    "    plt.clabel(c)\n",
    "    mm.plot_ibound(ibound=np.array(idomain))\n",
    "    mm.plot_specific_discharge(ra);"
   ]
  },
  {
   "cell_type": "code",
   "execution_count": null,
   "metadata": {},
   "outputs": [],
   "source": [
    "fig = plt.figure(figsize=(11,11))\n",
    "ax = fig.add_subplot(1, 1, 1, aspect='equal')\n",
    "\n",
    "vmin = head.min()\n",
    "vmax = head.max()\n",
    "\n",
    "modelmap = flopy.plot.PlotMapView(model=gwf, layer=1)\n",
    "quadmesh = modelmap.plot_ibound()\n",
    "quadmesh = modelmap.plot_array(head[1], masked_values=[1.0e30], alpha=0.5, \n",
    "                                   vmin=vmin, vmax=vmax, cmap='jet')\n",
    "linecollection = modelmap.plot_grid(linewidth=0.4)\n",
    "\n",
    "plt.xlabel('Coordenadas W-E',fontsize=11)\n",
    "plt.ylabel('Coordenadas S-N',fontsize=11)\n",
    "plt.title('',fontsize = 22);"
   ]
  },
  {
   "cell_type": "code",
   "execution_count": null,
   "metadata": {},
   "outputs": [],
   "source": [
    "fig = plt.figure(figsize=(25,15))\n",
    "ax = fig.add_subplot(1, 1, 1)\n",
    "modelxsect = flopy.plot.PlotCrossSection(model=gwf, line={'column': 120})\n",
    "linecollection = modelxsect.plot_grid()\n",
    "#linewidth=0.3\n",
    "\n",
    "plt.gca().invert_xaxis()\n",
    "plt.xlabel('Coordenadas W-E',fontsize=20)\n",
    "plt.ylabel('Altura [m]',fontsize=20)\n",
    "red_patch = mpatches.Patch(color='red', label='Corte 1: Columna 120')\n",
    "\n",
    "plt.legend(handles=[red_patch], prop={'size': 15})\n",
    "plt.title('Sección transversal Líneas de contorno - Carga hidráulica calculada',fontsize = 25)\n",
    "#head_d[head_d<0]=0\n",
    "#head_d[head_d>.5e+30]=0\n",
    "headsmap = modelxsect.contour_array(head)\n",
    "#plt.colorbar(headsmap, orientation='horizontal',shrink=0.8, extend='both')\n",
    "norm= mpl.colors.Normalize(vmin=500, \n",
    "                           vmax=700)\n",
    "sm = plt.cm.ScalarMappable(norm=norm, cmap=headsmap.cmap)\n",
    "sm.set_array([])\n",
    "fig.colorbar(sm, orientation='horizontal', shrink=0.8);"
   ]
  },
  {
   "cell_type": "code",
   "execution_count": null,
   "metadata": {},
   "outputs": [],
   "source": [
    "fig = plt.figure(figsize=(25,15))\n",
    "ax = fig.add_subplot(1, 1, 1)\n",
    "modelxsect = flopy.plot.PlotCrossSection(model=gwf, line={'row': 140})\n",
    "linecollection = modelxsect.plot_grid()\n",
    "\n",
    "plt.gca().invert_xaxis()\n",
    "plt.xlabel('Coordenadas W-E',fontsize=20)\n",
    "plt.ylabel('Altura [m]',fontsize=20)\n",
    "\n",
    "plt.legend(handles=[mag_patch], prop={'size': 15})\n",
    "plt.title('Sección transversal Líneas de contorno - Carga hidráulica calculada',fontsize = 25)\n",
    "\n",
    "headsmap=modelxsect.contour_array(head)\n",
    "#vmin=headsmap.cvalues.min(), vmax=headsmap.cvalues.max())\n",
    "norm= mpl.colors.Normalize(vmin=500, \n",
    "                           vmax=700)\n",
    "sm = plt.cm.ScalarMappable(norm=norm, cmap=headsmap.cmap)\n",
    "sm.set_array([])\n",
    "fig.colorbar(sm, orientation='horizontal', shrink=0.8);"
   ]
  },
  {
   "cell_type": "code",
   "execution_count": null,
   "metadata": {},
   "outputs": [],
   "source": [
    "\n",
    "# load the heads and budget files\n",
    "fname = os.path.join(workspace,'mf6model.hds')\n",
    "hdobj = flopy.utils.HeadFile(fname)\n",
    "head = hdobj.get_data()\n",
    "times = hdobj.get_times()\n",
    "\n",
    "fname = os.path.join(workspace, '{}.cbc'.format(name))\n",
    "cbb = flopy.utils.binaryfile.CellBudgetFile(fname, precision='double')\n",
    "cbb.list_records()\n",
    "\n",
    "flowja = cbb.get_data(text='FLOW-JA-FACE', totim=times[0])[0][0,0,:]\n",
    "#chdflow = cbb.get_data(text='CHD', totim=times[0])[0]"
   ]
  },
  {
   "cell_type": "code",
   "execution_count": null,
   "metadata": {},
   "outputs": [],
   "source": [
    "keys = sim.simulation_data.mfdata.output_keys()"
   ]
  },
  {
   "cell_type": "code",
   "execution_count": null,
   "metadata": {},
   "outputs": [],
   "source": [
    "fname = os.path.join(workspace, '{}.cbc'.format(name))\n",
    "cbb = flopy.utils.binaryfile.CellBudgetFile(fname, precision='double')\n",
    "cbb.list_unique_records()"
   ]
  },
  {
   "cell_type": "code",
   "execution_count": null,
   "metadata": {},
   "outputs": [],
   "source": [
    "fname = os.path.join(workspace, '{}.dis.grb'.format(name))\n",
    "bgf = flopy.utils.mfgrdfile.MfGrdFile(fname)\n",
    "ia = bgf._datadict['IA'] - 1\n",
    "ja = bgf._datadict['JA'] - 1"
   ]
  },
  {
   "cell_type": "code",
   "execution_count": null,
   "metadata": {},
   "outputs": [],
   "source": [
    "#fig = plt.figure(figsize=(10,10))\n",
    "#ax = fig.add_subplot(1,1,1,aspect='equal')\n",
    "#\n",
    "## get head data\n",
    "#HEAD = sim.simulation_data.mfdata['mf6model', 'CBC', 'CHD']\n",
    "#HEAD=HEAD[0]\n",
    "#\n",
    "#modelmap = flopy.plot.PlotMapView(model=gwf, layer=0)\n",
    "#linecollection = modelmap.plot_grid(linewidth=0.4)\n",
    "#cs = modelmap.plot_array(HEAD, cmap=plt.get_cmap('jet', 18))\n",
    "#\n",
    "#plt.colorbar(cs, shrink=0.5)\n",
    "#plt.show()"
   ]
  },
  {
   "cell_type": "code",
   "execution_count": null,
   "metadata": {},
   "outputs": [],
   "source": [
    "#Data-spdis represents the components of specific discharge in the X, Y and Z directions\n",
    "spd = cbb.get_data(text='DATA-SPDIS')[0]"
   ]
  },
  {
   "cell_type": "code",
   "execution_count": null,
   "metadata": {},
   "outputs": [],
   "source": [
    "mm = flopy.plot.PlotMapView(model=gwf, layer=3)\n",
    "mm.plot_array(head, masked_values=[1e30])\n",
    "#\n",
    "fig = plt.gcf()\n",
    "fig.set_size_inches(11,11)\n",
    "#\n",
    "mm.plot_bc('RIV', color='blue')\n",
    "mm.plot_bc('CHD', color='blue')\n",
    "#mm.plot_specific_discharge(spd)"
   ]
  },
  {
   "cell_type": "markdown",
   "metadata": {},
   "source": [
    "#### Carga Hidráulica sin curvas"
   ]
  },
  {
   "cell_type": "code",
   "execution_count": null,
   "metadata": {},
   "outputs": [],
   "source": [
    "fig = plt.figure(figsize=(11,11))\n",
    "fig.subplots_adjust(wspace=1,hspace=1)\n",
    "plt.contourf(x, y, head[1,:,:])\n",
    "plt.grid(True,color='w')\n",
    "plt.title('')\n",
    "plt.colorbar()\n",
    "plt.subplots_adjust(wspace = 0.5,hspace=0.8)"
   ]
  },
  {
   "cell_type": "code",
   "execution_count": null,
   "metadata": {},
   "outputs": [],
   "source": [
    "#xcoord = np.linspace((delc/2), ncol*delc-(delc/2), ncol)\n",
    "watertable = flopy.utils.postprocessing.get_water_table(head, nodata=-1e30)\n",
    "#watertable[watertable==0]=float('nan')\n",
    "x = np.linspace(0, 12000, 240)\n",
    "plt.plot(x, watertable.T, 'k--');\n",
    "\n",
    "#plt.gca().invert_xaxis();"
   ]
  },
  {
   "cell_type": "code",
   "execution_count": null,
   "metadata": {},
   "outputs": [],
   "source": [
    "fig = plt.figure(figsize=(8, 8))\n",
    "ax = fig.add_subplot(1, 1, 1, aspect='equal')\n",
    "ax.set_title('Random Array')\n",
    "mapview = flopy.plot.PlotMapView(model=gwf, layer=1)\n",
    "quadmesh = mapview.plot_array(watertable)\n",
    "linecollection = mapview.plot_grid(linewidth=0.4)\n",
    "cb = plt.colorbar(quadmesh, shrink=0.5)"
   ]
  },
  {
   "cell_type": "code",
   "execution_count": null,
   "metadata": {},
   "outputs": [],
   "source": [
    "#fig, axes = plt.subplots(nrows=nrow, ncols=ncol, figsize=(15, 8))\n",
    "#vmin = head.min()\n",
    "#vmax = head.max()\n",
    "#levels = np.linspace(vmin, vmax, 20)\n",
    "#\n",
    "#for ilay in range(nlay):\n",
    "#    ax = axes[ilay]\n",
    "#    ax.set_title('Layer {}'.format(ilay + 1))\n",
    "#    ax.set_aspect('equal')\n",
    "#    modelmap = flopy.plot.PlotMapView(model=m, layer=ilay, ax=ax)\n",
    "#    quadmesh = modelmap.plot_array(head, masked_values=[0], alpha=0.5, \n",
    "#                                   vmin=vmin, vmax=vmax, cmap='jet')\n",
    "#    linecollection = modelmap.plot_grid()\n",
    "#    contour_set = modelmap.contour_array(head, levels=levels, colors='white')\n",
    "#    quiver = modelmap.plot_discharge(frf, fff, head=head)\n",
    "#cb = fig.colorbar(quadmesh, ax=axes, shrink=0.5)"
   ]
  },
  {
   "cell_type": "code",
   "execution_count": null,
   "metadata": {},
   "outputs": [],
   "source": [
    "#fig = plt.figure(figsize=(18, 5))\n",
    "#ax = fig.add_subplot(1, 1, 1)\n",
    "#xsect = flopy.plot.PlotCrossSection(model=gwf, line={'Row': 100})\n",
    "#csa = xsect.plot_array(head[3].reshape(280,240))"
   ]
  },
  {
   "cell_type": "code",
   "execution_count": null,
   "metadata": {},
   "outputs": [],
   "source": [
    "from mpl_toolkits.mplot3d import Axes3D\n",
    "import matplotlib.pyplot as plt\n",
    "from matplotlib import cm\n",
    "from matplotlib.ticker import LinearLocator, FormatStrFormatter"
   ]
  },
  {
   "cell_type": "code",
   "execution_count": null,
   "metadata": {
    "scrolled": true
   },
   "outputs": [],
   "source": [
    "### Sección transversal en la mitad del modelo (columna 120)\n",
    "fig = plt.figure(figsize=(15,5))\n",
    "ax = fig.add_subplot(1, 1, 1)\n",
    "\n",
    "xsect = flopy.plot.PlotCrossSection(model=gwf, line={'column': 120})\n",
    "#patches = xsect.plot_ibound(color_noflow='green')\n",
    "\n",
    "linecollection = xsect.plot_grid(lw=0.5)\n",
    "t = ax.set_title('Sección transversal | Columna 120')\n",
    "\n",
    "### Sección transversal en la mitad del modelo (fila 140)\n",
    "fig = plt.figure(figsize=(15,5))\n",
    "ax = fig.add_subplot(1, 1, 1)\n",
    "\n",
    "xsect = flopy.plot.PlotCrossSection(model=gwf, line={'row': 140})\n",
    "#patches = xsect.plot_ibound(color_noflow='green')\n",
    "\n",
    "linecollection = xsect.plot_grid(lw=0.5)\n",
    "t = ax.set_title('Sección transversal | Fila 140')"
   ]
  },
  {
   "cell_type": "code",
   "execution_count": null,
   "metadata": {
    "scrolled": true
   },
   "outputs": [],
   "source": [
    "fig = plt.figure(figsize=(15, 6))\n",
    "ax = fig.add_subplot(1, 1, 1)\n",
    "modelxsect = flopy.plot.PlotCrossSection(model=gwf, line={'Column': 120})\n",
    "patches = modelxsect.plot_ibound(color_noflow='green')\n",
    "linecollection = modelxsect.plot_grid(linewidth=0.4)\n",
    "t = ax.set_title('Sección transversal de celdas activas e inactivas | Columna 120')\n",
    "\n",
    "fig = plt.figure(figsize=(15, 6))\n",
    "ax = fig.add_subplot(1, 1, 1)\n",
    "modelxsect = flopy.plot.PlotCrossSection(model=gwf, line={'Row': 140})\n",
    "patches = modelxsect.plot_ibound(color_noflow='green')\n",
    "linecollection = modelxsect.plot_grid(linewidth=0.4)\n",
    "t = ax.set_title('Sección transversal de celdas activas e inactivas | Fila 140')"
   ]
  },
  {
   "cell_type": "code",
   "execution_count": null,
   "metadata": {},
   "outputs": [],
   "source": [
    "from mpl_toolkits.mplot3d import Axes3D\n",
    "#Vista 3d ztop\n",
    "#create 3d figure\n",
    "fig_3d = plt.figure(figsize=(15,5))\n",
    "ax = fig_3d.gca(projection='3d')\n",
    "\n",
    "#set X, Y, Z variables for 3d plot\n",
    "X = np.arange(0,ncol*delc,delc)\n",
    "Y = np.arange(0,nrow*delc,delr)\n",
    "X, Y = np.meshgrid(X, Y)\n",
    "Z = ztop\n",
    "\n",
    "#create surface and labels\n",
    "surf = ax.plot_surface(X,Y,Z, cmap = 'viridis', linewidth=0, label='head')\n",
    "fig_3d.colorbar(surf, shrink=1, aspect=150).set_label('Elevación (m)',fontsize=10,fontweight='bold')\n",
    "ax.set_xlabel('Lx (m)', fontsize=11, fontweight='bold')\n",
    "ax.set_ylabel('Ly (m)', fontsize=11, fontweight='bold')\n",
    "ax.set_title('Superficie Total | ztop', fontsize=15, fontweight='bold')\n",
    "plt.show(surf)"
   ]
  },
  {
   "cell_type": "code",
   "execution_count": null,
   "metadata": {},
   "outputs": [],
   "source": [
    "#Vista 3d ztop\n",
    "#create 3d figure\n",
    "fig_3d = plt.figure(figsize=(15,5))\n",
    "ax = fig_3d.gca(projection='3d')\n",
    "\n",
    "#set X, Y, Z variables for 3d plot\n",
    "X = np.arange(0,ncol*delc,delc)\n",
    "Y = np.arange(0,nrow*delc,delr)\n",
    "X, Y = np.meshgrid(X, Y)\n",
    "Z = zbot[0]\n",
    "\n",
    "#create surface and labels\n",
    "surf = ax.plot_surface(X,Y,Z, cmap = 'viridis', linewidth=0, label='head')\n",
    "fig_3d.colorbar(surf, shrink=1, aspect=150).set_label('Elevación (m)',fontsize=10,fontweight='bold')\n",
    "ax.set_xlabel('Lx (m)', fontsize=11, fontweight='bold')\n",
    "ax.set_ylabel('Ly (m)', fontsize=11, fontweight='bold')\n",
    "ax.set_title('Capa 1 | Limos Rojos', fontsize=15, fontweight='bold')\n",
    "plt.show(surf)"
   ]
  },
  {
   "cell_type": "code",
   "execution_count": null,
   "metadata": {},
   "outputs": [],
   "source": [
    "#Vista 3d ztop\n",
    "#create 3d figure\n",
    "fig_3d = plt.figure(figsize=(15,5))\n",
    "ax = fig_3d.gca(projection='3d')\n",
    "\n",
    "#set X, Y, Z variables for 3d plot\n",
    "X = np.arange(0,ncol*delc,delc)\n",
    "Y = np.arange(0,nrow*delc,delr)\n",
    "X, Y = np.meshgrid(X, Y)\n",
    "Z = zbot[1]\n",
    "\n",
    "#create surface and labels\n",
    "surf = ax.plot_surface(X,Y,Z, cmap = 'viridis', linewidth=0, label='head')\n",
    "fig_3d.colorbar(surf, shrink=1, aspect=150).set_label('Elevación (m)',fontsize=10,fontweight='bold')\n",
    "ax.set_xlabel('Lx (m)', fontsize=11, fontweight='bold')\n",
    "ax.set_ylabel('Ly (m)', fontsize=11, fontweight='bold')\n",
    "ax.set_title('Capa 2 | Gravoso', fontsize=15, fontweight='bold')\n",
    "plt.show(surf)"
   ]
  },
  {
   "cell_type": "code",
   "execution_count": null,
   "metadata": {},
   "outputs": [],
   "source": [
    "#Vista 3d ztop\n",
    "#create 3d figure\n",
    "fig_3d = plt.figure(figsize=(15,5))\n",
    "ax = fig_3d.gca(projection='3d')\n",
    "\n",
    "#set X, Y, Z variables for 3d plot\n",
    "X = np.arange(0,ncol*delc,delc)\n",
    "Y = np.arange(0,nrow*delc,delr)\n",
    "X, Y = np.meshgrid(X, Y)\n",
    "Z = zbot[2]\n",
    "\n",
    "#create surface and labels\n",
    "surf = ax.plot_surface(X,Y,Z, cmap = 'viridis', linewidth=0, label='head')\n",
    "fig_3d.colorbar(surf, shrink=1, aspect=150).set_label('Elevación (m)',fontsize=10,fontweight='bold')\n",
    "ax.set_xlabel('Lx (m)', fontsize=11, fontweight='bold')\n",
    "ax.set_ylabel('Ly (m)', fontsize=11, fontweight='bold')\n",
    "ax.set_title('Capa 3 | Finos', fontsize=15, fontweight='bold')\n",
    "plt.show(surf)"
   ]
  },
  {
   "cell_type": "code",
   "execution_count": null,
   "metadata": {},
   "outputs": [],
   "source": [
    "#Vista 3d ztop\n",
    "#create 3d figure\n",
    "fig_3d = plt.figure(figsize=(15,5))\n",
    "ax = fig_3d.gca(projection='3d')\n",
    "\n",
    "#set X, Y, Z variables for 3d plot\n",
    "X = np.arange(0,ncol*delc,delc)\n",
    "Y = np.arange(0,nrow*delc,delr)\n",
    "X, Y = np.meshgrid(X, Y)\n",
    "Z = zbot[3]\n",
    "\n",
    "#create surface and labels\n",
    "surf = ax.plot_surface(X,Y,Z, cmap = 'viridis', linewidth=0, label='head')\n",
    "fig_3d.colorbar(surf, shrink=1, aspect=150).set_label('Elevación (m)',fontsize=10,fontweight='bold')\n",
    "ax.set_xlabel('Lx (m)', fontsize=11, fontweight='bold')\n",
    "ax.set_ylabel('Ly (m)', fontsize=11, fontweight='bold')\n",
    "ax.set_title('Capa 4 | Órganos', fontsize=15, fontweight='bold')\n",
    "plt.show(surf)"
   ]
  },
  {
   "cell_type": "code",
   "execution_count": null,
   "metadata": {},
   "outputs": [],
   "source": [
    "pm = flopy.plot.PlotMapView(model=gwf, layer=3)\n",
    "c = pm.plot_array(ztop)"
   ]
  },
  {
   "cell_type": "code",
   "execution_count": null,
   "metadata": {},
   "outputs": [],
   "source": [
    "plt.imshow(zbot[0])\n",
    "fig = plt.figure(figsize=(12, 12))\n",
    "ax = fig.add_subplot(1, 1, 1, aspect='equal')\n",
    "\n",
    "x = np.arange(20)\n",
    "y = np.arange(20)\n",
    "data = x[:-1,None]+y[None,:-1]\n",
    "\n",
    "fig = plt.gcf()\n",
    "ax = fig.add_subplot(111)\n",
    "\n",
    "X,Y = np.meshgrid(x,y)\n",
    "quadmesh = ax.pcolormesh(X,Y,data)\n",
    "plt.colorbar(quadmesh)"
   ]
  }
 ],
 "metadata": {
  "kernelspec": {
   "display_name": "Python 3",
   "language": "python",
   "name": "python3"
  },
  "language_info": {
   "codemirror_mode": {
    "name": "ipython",
    "version": 3
   },
   "file_extension": ".py",
   "mimetype": "text/x-python",
   "name": "python",
   "nbconvert_exporter": "python",
   "pygments_lexer": "ipython3",
   "version": "3.8.5"
  }
 },
 "nbformat": 4,
 "nbformat_minor": 4
}
