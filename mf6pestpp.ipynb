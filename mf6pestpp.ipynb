{
 "cells": [
  {
   "cell_type": "code",
   "execution_count": 107,
   "metadata": {},
   "outputs": [],
   "source": [
    "import os\n",
    "import sys\n",
    "import flopy as fp\n",
    "import numpy as np\n",
    "import matplotlib.pyplot as plt\n",
    "import pandas as pd\n",
    "import pyemu\n",
    "from shutil import copyfile\n",
    "plt.rcParams['font.size']=12"
   ]
  },
  {
   "cell_type": "code",
   "execution_count": 108,
   "metadata": {},
   "outputs": [],
   "source": [
    "workspace = \"workspace\"\n",
    "model_name = \"mf6model\"\n",
    "exe_name=\"mf6.exe\"\n",
    "\n",
    "nrow = 280\n",
    "ncol = 240"
   ]
  },
  {
   "cell_type": "code",
   "execution_count": 109,
   "metadata": {},
   "outputs": [
    {
     "data": {
      "text/plain": [
       "<matplotlib.colorbar.Colorbar at 0x26edbc34f70>"
      ]
     },
     "execution_count": 109,
     "metadata": {},
     "output_type": "execute_result"
    },
    {
     "data": {
      "image/png": "[encoded data removed]",
      "text/plain": [
       "<Figure size 432x288 with 2 Axes>"
      ]
     },
     "metadata": {
      "needs_background": "light"
     },
     "output_type": "display_data"
    }
   ],
   "source": [
    "plt.imshow(fp.utils.HeadFile(\"workspace/{}.hds\".format(model_name)).get_data((0,0))[0])\n",
    "plt.colorbar()"
   ]
  },
  {
   "cell_type": "code",
   "execution_count": 110,
   "metadata": {
    "scrolled": true
   },
   "outputs": [
    {
     "name": "stdout",
     "output_type": "stream",
     "text": [
      "loading simulation...\n",
      "  loading simulation name file...\n",
      "  loading tdis package...\n",
      "  loading model gwf6...\n",
      "    loading package dis...\n",
      "    loading package ic...\n",
      "    loading package npf...\n",
      "    loading package chd...\n",
      "    loading package riv...\n",
      "    loading package obs...\n",
      "    loading package oc...\n",
      "  loading ims package mf6model...\n",
      "   could not remove start_datetime\n"
     ]
    }
   ],
   "source": [
    "sim = fp.mf6.MFSimulation.load(sim_ws=workspace)\n",
    "m = sim.get_model(model_name)\n",
    "sr = pyemu.helpers.SpatialReference.from_namfile(\n",
    "        os.path.join(workspace, \"{}.nam\".format(model_name)),\n",
    "        delr=m.dis.delr.array, delc=m.dis.delc.array)"
   ]
  },
  {
   "cell_type": "code",
   "execution_count": 111,
   "metadata": {},
   "outputs": [],
   "source": [
    "#sr=pyemu.utils.helpers.SpatialReference.set_spatialreference(xul=None, yul=None, xll=None, yll=None, rotation=0.0)"
   ]
  },
  {
   "cell_type": "code",
   "execution_count": 112,
   "metadata": {},
   "outputs": [
    {
     "data": {
      "text/plain": [
       "xul:1098000; yul:1285000; rotation:0; proj4_str:+init=epsg:3116; units:meters; lenuni:2; length_multiplier:1.0"
      ]
     },
     "execution_count": 112,
     "metadata": {},
     "output_type": "execute_result"
    }
   ],
   "source": [
    "xul, yul = 1098000, 1285000 # Model Origin\n",
    "\n",
    "dxdy = 50 #grid spacing\n",
    "delc = np.ones(nrow, dtype=float) * dxdy\n",
    "delr = np.ones(ncol, dtype=float) * dxdy\n",
    "rot = 0\n",
    "\n",
    "sr = pyemu.helpers.SpatialReference(delr=delr, delc=delc, xul=xul, yul=yul, rotation=rot, epsg='3116')\n",
    "sr"
   ]
  },
  {
   "cell_type": "code",
   "execution_count": 113,
   "metadata": {},
   "outputs": [
    {
     "name": "stdout",
     "output_type": "stream",
     "text": [
      "2021-02-19 20:35:35.205743 starting: opening PstFrom.log for logging\n",
      "2021-02-19 20:35:35.206741 starting PstFrom process\n",
      "2021-02-19 20:35:35.208737 starting: setting up dirs\n",
      "2021-02-19 20:35:35.209734 starting: removing existing new_d 'template'\n",
      "2021-02-19 20:35:35.233646 finished: removing existing new_d 'template' took: 0:00:00.023912\n",
      "2021-02-19 20:35:35.233646 starting: copying original_d 'workspace' to new_d 'template'\n",
      "2021-02-19 20:35:35.302847 finished: copying original_d 'workspace' to new_d 'template' took: 0:00:00.069201\n",
      "2021-02-19 20:35:35.303845 finished: setting up dirs took: 0:00:00.095108\n"
     ]
    }
   ],
   "source": [
    "file = \"heads.csv\"\n",
    "fileout = \"workspace/heads.csv\"\n",
    "os.remove(fileout)\n",
    "copyfile(file, fileout) # copy \n",
    "\n",
    "# empty pst from object\n",
    "template_ws = \"template\"\n",
    "pf = pyemu.utils.PstFrom(original_d=workspace, new_d=template_ws,\n",
    "                 remove_existing=True,\n",
    "                 longnames=True, spatial_reference=sr,\n",
    "                 zero_based=False)"
   ]
  },
  {
   "cell_type": "code",
   "execution_count": 114,
   "metadata": {},
   "outputs": [
    {
     "name": "stdout",
     "output_type": "stream",
     "text": [
      "2021-02-19 20:35:35.317805 starting: adding observations from tabular output file\n",
      "2021-02-19 20:35:35.317805 starting: reading list template\\heads.csv\n",
      "2021-02-19 20:35:35.320798 finished: reading list template\\heads.csv took: 0:00:00.002993\n",
      "2021-02-19 20:35:35.320798 starting: building insfile for tabular output file heads.csv\n",
      "2021-02-19 20:35:35.327807 finished: building insfile for tabular output file heads.csv took: 0:00:00.007009\n",
      "2021-02-19 20:35:35.327807 starting: adding observation from instruction file 'template\\heads.csv.ins'\n",
      "2021-02-19 20:35:35.333791 finished: adding observation from instruction file 'template\\heads.csv.ins' took: 0:00:00.005984\n",
      "2021-02-19 20:35:35.333791 finished: adding observations from tabular output file took: 0:00:00.015986\n",
      "noptmax:30, npar_adj:0, nnz_obs:33\n"
     ]
    },
    {
     "data": {
      "text/plain": [
       "<pyemu.pst.pst_handler.Pst at 0x26edcc1cf40>"
      ]
     },
     "execution_count": 114,
     "metadata": {},
     "output_type": "execute_result"
    }
   ],
   "source": [
    "#add observation\n",
    "df = pd.read_csv(os.path.join(template_ws,\"heads.csv\"),index_col=0)\n",
    "\n",
    "hds_df = pf.add_observations(\"heads.csv\",insfile=\"heads.csv.ins\",index_cols=\"time\",\n",
    "                use_cols=list(df.columns.values),prefix=\"hds\",obsgp=False)\n",
    "\n",
    "case = \"pest_test\"\n",
    "pf.build_pst(\"{}.pst\".format(case))"
   ]
  },
  {
   "cell_type": "code",
   "execution_count": 115,
   "metadata": {},
   "outputs": [
    {
     "name": "stdout",
     "output_type": "stream",
     "text": [
      "spatial variogram\n"
     ]
    },
    {
     "data": {
      "image/png": "[encoded data removed]",
      "text/plain": [
       "<Figure size 576x288 with 1 Axes>"
      ]
     },
     "metadata": {
      "needs_background": "light"
     },
     "output_type": "display_data"
    }
   ],
   "source": [
    "ppspace1=60\n",
    "a = ppspace1*3.0\n",
    "v = pyemu.geostats.GauVario(contribution=1.0,a=a)\n",
    "grid_gs1 = pyemu.geostats.GeoStruct(variograms=v, transform='log')\n",
    "\n",
    "fig = plt.figure(figsize=(8,4))\n",
    "grid_gs1.plot()\n",
    "print(\"spatial variogram\")"
   ]
  },
  {
   "cell_type": "code",
   "execution_count": 116,
   "metadata": {},
   "outputs": [
    {
     "name": "stdout",
     "output_type": "stream",
     "text": [
      "spatial variogram\n"
     ]
    },
    {
     "data": {
      "image/png": "[encoded data removed]",
      "text/plain": [
       "<Figure size 576x288 with 1 Axes>"
      ]
     },
     "metadata": {
      "needs_background": "light"
     },
     "output_type": "display_data"
    }
   ],
   "source": [
    "ppspace2=30\n",
    "a = ppspace2*3.0\n",
    "v = pyemu.geostats.GauVario(contribution=1.0,a=a)\n",
    "grid_gs2 = pyemu.geostats.GeoStruct(variograms=v, transform='log')\n",
    "\n",
    "fig = plt.figure(figsize=(8,4))\n",
    "grid_gs2.plot()\n",
    "print(\"spatial variogram\")"
   ]
  },
  {
   "cell_type": "code",
   "execution_count": 117,
   "metadata": {},
   "outputs": [],
   "source": [
    "# set an homogeneous k array (as initial value)\n",
    "# k = 1e-4*np.ones([nrow,ncol])\n",
    "# filnm = \"k.txt\"\n",
    "# np.savetxt(os.path.join(template_ws,filnm),k)"
   ]
  },
  {
   "cell_type": "code",
   "execution_count": 118,
   "metadata": {},
   "outputs": [],
   "source": [
    "# Model domain in txt file because the code for some reason is not respecting my m.dis.idomain in the pilot point section\n",
    "# maxsize to check these matrices very well!\n",
    "np.set_printoptions(threshold=sys.maxsize)\n",
    "\n",
    "ib0=np.loadtxt(os.path.join(workspace,\"mf6model.dis_idomain_layer0.txt\"))\n",
    "ib1=np.loadtxt(os.path.join(workspace,\"mf6model.dis_idomain_layer1.txt\"))\n",
    "ib2=np.loadtxt(os.path.join(workspace,\"mf6model.dis_idomain_layer2.txt\"))\n",
    "ib3=np.loadtxt(os.path.join(workspace,\"mf6model.dis_idomain_layer3.txt\"))\n",
    "\n",
    "ib=[ib0,ib1,ib2,ib3]\n",
    "\n",
    "# To make sure only greater than zero values are being considered in the pilot point automated placement for all layers\n",
    "nlay=4\n",
    "for i in range(0,nlay):\n",
    "    ib[i][ib[i]==-1]=0"
   ]
  },
  {
   "cell_type": "code",
   "execution_count": 119,
   "metadata": {},
   "outputs": [
    {
     "name": "stdout",
     "output_type": "stream",
     "text": [
      "2021-02-19 20:35:35.885951 starting: adding pilotpoint type multiplier style parameters for file(s) ['hk0.txt']\n",
      "2021-02-19 20:35:35.885951 starting: loading array template\\hk0.txt\n",
      "2021-02-19 20:35:35.947785 finished: loading array template\\hk0.txt took: 0:00:00.061834\n",
      "2021-02-19 20:35:35.947785 loaded array 'hk0.txt' of shape (280, 240)\n",
      "2021-02-19 20:35:36.005630 starting: writing array-based template file 'kp0_inst0_pilotpoint.csv.tpl'\n",
      "2021-02-19 20:35:36.006661 starting: setting up pilot point parameters\n",
      "2021-02-19 20:35:36.059002 10 pilot point parameters created\n",
      "2021-02-19 20:35:36.059002 pilot point 'pargp':kp0_inst:0\n",
      "2021-02-19 20:35:36.059999 finished: setting up pilot point parameters took: 0:00:00.053338\n",
      "2021-02-19 20:35:36.062000 starting: calculating factors for pargp=kp0_inst:0\n",
      "2021-02-19 20:35:36.062000 saving krige variance file:template\\kp0_inst0pp.var.dat\n",
      "2021-02-19 20:35:36.062000 saving krige factors file:template\\kp0_inst0pp.fac\n",
      "starting interp point loop for 67200 points\n",
      "starting 0\n",
      "starting 1\n",
      "starting 2\n",
      "starting 3\n",
      "starting 4\n",
      "starting 5\n",
      "starting 6\n",
      "starting 7\n",
      "starting 8\n",
      "starting 9\n"
     ]
    },
    {
     "name": "stderr",
     "output_type": "stream",
     "text": [
      "C:\\ProgramData\\Anaconda3\\lib\\site-packages\\numpy\\core\\_asarray.py:83: VisibleDeprecationWarning: Creating an ndarray from ragged nested sequences (which is a list-or-tuple of lists-or-tuples-or ndarrays with different lengths or shapes) is deprecated. If you meant to do this, you must specify 'dtype=object' when creating the ndarray\n",
      "  return array(a, dtype, copy=False, order=order)\n"
     ]
    },
    {
     "name": "stdout",
     "output_type": "stream",
     "text": [
      "took 70.397706 seconds\n",
      "2021-02-19 20:36:47.417370 finished: calculating factors for pargp=kp0_inst:0 took: 0:01:11.355370\n",
      "2021-02-19 20:36:47.417370 starting: writing array-based template file 'kp0_inst0pp.dat.tpl'\n",
      "2021-02-19 20:36:47.423324 finished: adding pilotpoint type multiplier style parameters for file(s) ['hk0.txt'] took: 0:01:11.537373\n",
      "2021-02-19 20:36:47.456273 starting: adding pilotpoint type multiplier style parameters for file(s) ['hk1.txt']\n",
      "2021-02-19 20:36:47.457344 starting: loading array template\\hk1.txt\n",
      "2021-02-19 20:36:47.516104 finished: loading array template\\hk1.txt took: 0:00:00.058760\n",
      "2021-02-19 20:36:47.517101 loaded array 'hk1.txt' of shape (280, 240)\n",
      "2021-02-19 20:36:47.571954 starting: writing array-based template file 'kp1_inst0_pilotpoint.csv.tpl'\n",
      "2021-02-19 20:36:47.571954 starting: setting up pilot point parameters\n",
      "2021-02-19 20:36:47.630353 10 pilot point parameters created\n",
      "2021-02-19 20:36:47.630353 pilot point 'pargp':kp1_inst:0\n",
      "2021-02-19 20:36:47.630353 finished: setting up pilot point parameters took: 0:00:00.058399\n",
      "2021-02-19 20:36:47.633345 starting: calculating factors for pargp=kp1_inst:0\n",
      "2021-02-19 20:36:47.633345 saving krige variance file:template\\kp1_inst0pp.var.dat\n",
      "2021-02-19 20:36:47.633345 saving krige factors file:template\\kp1_inst0pp.fac\n",
      "starting interp point loop for 67200 points\n",
      "starting 0\n",
      "starting 1\n",
      "starting 2\n",
      "starting 3\n",
      "starting 4\n",
      "starting 5\n",
      "starting 6\n",
      "starting 7\n",
      "starting 8\n",
      "starting 9\n"
     ]
    },
    {
     "name": "stderr",
     "output_type": "stream",
     "text": [
      "C:\\ProgramData\\Anaconda3\\lib\\site-packages\\numpy\\core\\_asarray.py:83: VisibleDeprecationWarning: Creating an ndarray from ragged nested sequences (which is a list-or-tuple of lists-or-tuples-or ndarrays with different lengths or shapes) is deprecated. If you meant to do this, you must specify 'dtype=object' when creating the ndarray\n",
      "  return array(a, dtype, copy=False, order=order)\n"
     ]
    },
    {
     "name": "stdout",
     "output_type": "stream",
     "text": [
      "took 46.648824 seconds\n",
      "2021-02-19 20:37:34.518109 finished: calculating factors for pargp=kp1_inst:0 took: 0:00:46.884764\n",
      "2021-02-19 20:37:34.518109 starting: writing array-based template file 'kp1_inst0pp.dat.tpl'\n",
      "2021-02-19 20:37:34.524093 finished: adding pilotpoint type multiplier style parameters for file(s) ['hk1.txt'] took: 0:00:47.067820\n",
      "2021-02-19 20:37:34.532071 starting: adding pilotpoint type multiplier style parameters for file(s) ['hk2.txt']\n",
      "2021-02-19 20:37:34.533069 starting: loading array template\\hk2.txt\n",
      "2021-02-19 20:37:34.590914 finished: loading array template\\hk2.txt took: 0:00:00.057845\n",
      "2021-02-19 20:37:34.590914 loaded array 'hk2.txt' of shape (280, 240)\n",
      "2021-02-19 20:37:34.646764 starting: writing array-based template file 'kp2_inst0_pilotpoint.csv.tpl'\n",
      "2021-02-19 20:37:34.646764 starting: setting up pilot point parameters\n",
      "2021-02-19 20:37:34.686829 10 pilot point parameters created\n",
      "2021-02-19 20:37:34.686829 pilot point 'pargp':kp2_inst:0\n",
      "2021-02-19 20:37:34.686829 finished: setting up pilot point parameters took: 0:00:00.040065\n",
      "2021-02-19 20:37:34.690854 starting: writing array-based template file 'kp2_inst0pp.dat.tpl'\n",
      "2021-02-19 20:37:34.695840 finished: adding pilotpoint type multiplier style parameters for file(s) ['hk2.txt'] took: 0:00:00.163769\n",
      "2021-02-19 20:37:34.695840 starting: adding pilotpoint type multiplier style parameters for file(s) ['hk3.txt']\n",
      "2021-02-19 20:37:34.695840 starting: loading array template\\hk3.txt\n",
      "2021-02-19 20:37:34.754683 finished: loading array template\\hk3.txt took: 0:00:00.058843\n",
      "2021-02-19 20:37:34.754683 loaded array 'hk3.txt' of shape (280, 240)\n",
      "2021-02-19 20:37:34.812521 starting: writing array-based template file 'kp3_inst0_pilotpoint.csv.tpl'\n",
      "2021-02-19 20:37:34.812521 starting: setting up pilot point parameters\n",
      "2021-02-19 20:37:34.854321 10 pilot point parameters created\n",
      "2021-02-19 20:37:34.854321 pilot point 'pargp':kp3_inst:0\n",
      "2021-02-19 20:37:34.854321 finished: setting up pilot point parameters took: 0:00:00.041800\n",
      "2021-02-19 20:37:34.858313 starting: writing array-based template file 'kp3_inst0pp.dat.tpl'\n",
      "2021-02-19 20:37:34.863299 finished: adding pilotpoint type multiplier style parameters for file(s) ['hk3.txt'] took: 0:00:00.167459\n",
      "2021-02-19 20:37:34.864297 starting: adding pilotpoint type multiplier style parameters for file(s) ['vk0.txt']\n",
      "2021-02-19 20:37:34.864297 starting: loading array template\\vk0.txt\n",
      "2021-02-19 20:37:34.926131 finished: loading array template\\vk0.txt took: 0:00:00.061834\n",
      "2021-02-19 20:37:34.927128 loaded array 'vk0.txt' of shape (280, 240)\n",
      "2021-02-19 20:37:34.986967 starting: writing array-based template file 'kp0_inst1_pilotpoint.csv.tpl'\n",
      "2021-02-19 20:37:34.987965 starting: setting up pilot point parameters\n",
      "2021-02-19 20:37:35.042320 10 pilot point parameters created\n",
      "2021-02-19 20:37:35.042320 pilot point 'pargp':kp0_inst:1\n",
      "2021-02-19 20:37:35.042320 finished: setting up pilot point parameters took: 0:00:00.054355\n",
      "2021-02-19 20:37:35.045308 starting: writing array-based template file 'kp0_inst1pp.dat.tpl'\n",
      "2021-02-19 20:37:35.051290 finished: adding pilotpoint type multiplier style parameters for file(s) ['vk0.txt'] took: 0:00:00.186993\n",
      "2021-02-19 20:37:35.051290 starting: adding pilotpoint type multiplier style parameters for file(s) ['vk1.txt']\n",
      "2021-02-19 20:37:35.051290 starting: loading array template\\vk1.txt\n",
      "2021-02-19 20:37:35.108103 finished: loading array template\\vk1.txt took: 0:00:00.056813\n",
      "2021-02-19 20:37:35.109100 loaded array 'vk1.txt' of shape (280, 240)\n",
      "2021-02-19 20:37:35.163990 starting: writing array-based template file 'kp1_inst1_pilotpoint.csv.tpl'\n",
      "2021-02-19 20:37:35.163990 starting: setting up pilot point parameters\n",
      "2021-02-19 20:37:35.203230 10 pilot point parameters created\n",
      "2021-02-19 20:37:35.203230 pilot point 'pargp':kp1_inst:1\n",
      "2021-02-19 20:37:35.203230 finished: setting up pilot point parameters took: 0:00:00.039240\n",
      "2021-02-19 20:37:35.207220 starting: writing array-based template file 'kp1_inst1pp.dat.tpl'\n",
      "2021-02-19 20:37:35.212200 finished: adding pilotpoint type multiplier style parameters for file(s) ['vk1.txt'] took: 0:00:00.160910\n",
      "2021-02-19 20:37:35.212200 starting: adding pilotpoint type multiplier style parameters for file(s) ['vk2.txt']\n",
      "2021-02-19 20:37:35.213197 starting: loading array template\\vk2.txt\n",
      "2021-02-19 20:37:35.273008 finished: loading array template\\vk2.txt took: 0:00:00.059811\n",
      "2021-02-19 20:37:35.273008 loaded array 'vk2.txt' of shape (280, 240)\n",
      "2021-02-19 20:37:35.332883 starting: writing array-based template file 'kp2_inst1_pilotpoint.csv.tpl'\n",
      "2021-02-19 20:37:35.332883 starting: setting up pilot point parameters\n",
      "2021-02-19 20:37:35.375493 10 pilot point parameters created\n",
      "2021-02-19 20:37:35.375493 pilot point 'pargp':kp2_inst:1\n",
      "2021-02-19 20:37:35.376489 finished: setting up pilot point parameters took: 0:00:00.043606\n",
      "2021-02-19 20:37:35.379481 starting: writing array-based template file 'kp2_inst1pp.dat.tpl'\n",
      "2021-02-19 20:37:35.384467 finished: adding pilotpoint type multiplier style parameters for file(s) ['vk2.txt'] took: 0:00:00.172267\n",
      "2021-02-19 20:37:35.385464 starting: adding pilotpoint type multiplier style parameters for file(s) ['vk3.txt']\n",
      "2021-02-19 20:37:35.385464 starting: loading array template\\vk3.txt\n",
      "2021-02-19 20:37:35.445304 finished: loading array template\\vk3.txt took: 0:00:00.059840\n",
      "2021-02-19 20:37:35.445304 loaded array 'vk3.txt' of shape (280, 240)\n",
      "2021-02-19 20:37:35.510634 starting: writing array-based template file 'kp3_inst1_pilotpoint.csv.tpl'\n",
      "2021-02-19 20:37:35.510634 starting: setting up pilot point parameters\n",
      "2021-02-19 20:37:35.550853 10 pilot point parameters created\n",
      "2021-02-19 20:37:35.550853 pilot point 'pargp':kp3_inst:1\n",
      "2021-02-19 20:37:35.550853 finished: setting up pilot point parameters took: 0:00:00.040219\n",
      "2021-02-19 20:37:35.553847 starting: writing array-based template file 'kp3_inst1pp.dat.tpl'\n",
      "2021-02-19 20:37:35.559863 finished: adding pilotpoint type multiplier style parameters for file(s) ['vk3.txt'] took: 0:00:00.174399\n"
     ]
    }
   ],
   "source": [
    "#Horizontal conductivity for the 4 layers\n",
    "#layer1\n",
    "pf.add_parameters(filenames=\"hk0.txt\",par_type=\"pilotpoint\",pp_space=ppspace1,\n",
    "                   par_name_base=\"kp0\",pargp=\"hp1\", zone_array=ib[0], spatial_reference=sr,\n",
    "                   upper_bound=10.,lower_bound=0.1,geostruct=grid_gs1, ult_ubound=1.1921e-3,ult_lbound=1.1574e-8)\n",
    "#layer2\n",
    "pf.add_parameters(filenames=\"hk1.txt\",par_type=\"pilotpoint\",pp_space=ppspace2,\n",
    "                   par_name_base=\"kp1\",pargp=\"hp2\", zone_array=ib[1], spatial_reference=sr,\n",
    "                   upper_bound=10.,lower_bound=0.1,geostruct=grid_gs2, ult_ubound=1.1921e-3,ult_lbound=1.1921e-5)\n",
    "#layer3\n",
    "pf.add_parameters(filenames=\"hk2.txt\",par_type=\"pilotpoint\",pp_space=ppspace2,\n",
    "                   par_name_base=\"kp2\",pargp=\"hp3\", zone_array=ib[2], spatial_reference=sr,\n",
    "                   upper_bound=10.,lower_bound=0.1,geostruct=grid_gs2, ult_ubound=1.1574e-6,ult_lbound=1.1574e-8)\n",
    "#layer4\n",
    "pf.add_parameters(filenames=\"hk3.txt\",par_type=\"pilotpoint\",pp_space=ppspace1,\n",
    "                   par_name_base=\"kp3\",pargp=\"hp4\", zone_array=ib[3], spatial_reference=sr,\n",
    "                   upper_bound=10.,lower_bound=0.1,geostruct=grid_gs1, ult_ubound=4.167e-4,ult_lbound=4.167e-6)\n",
    "\n",
    "#Vertical conductivity for the 4 layers\n",
    "#layer1\n",
    "pf.add_parameters(filenames=\"vk0.txt\",par_type=\"pilotpoint\",pp_space=ppspace1,\n",
    "                  par_name_base=\"kp0\",pargp=\"vp1\", zone_array=ib[0], spatial_reference=sr,\n",
    "                  upper_bound=10.,lower_bound=0.1,geostruct=grid_gs1, ult_ubound=2.1991e-4,ult_lbound=1.0417e-8)\n",
    "#layer2\n",
    "pf.add_parameters(filenames=\"vk1.txt\",par_type=\"pilotpoint\",pp_space=ppspace2,\n",
    "                  par_name_base=\"kp1\",pargp=\"vp2\", zone_array=ib[1], spatial_reference=sr,\n",
    "                  upper_bound=10.,lower_bound=0.1,geostruct=grid_gs2, ult_ubound=2.1991e-4,ult_lbound=2.1991e-6)\n",
    "#layer3\n",
    "pf.add_parameters(filenames=\"vk2.txt\",par_type=\"pilotpoint\",pp_space=ppspace2,\n",
    "                   par_name_base=\"kp2\",pargp=\"vp3\", zone_array=ib[2], spatial_reference=sr,\n",
    "                   upper_bound=10.,lower_bound=0.1,geostruct=grid_gs2, ult_ubound=1.0417e-6,ult_lbound=1.0417e-8)\n",
    "#layer4\n",
    "pf.add_parameters(filenames=\"vk3.txt\",par_type=\"pilotpoint\",pp_space=ppspace1,\n",
    "                   par_name_base=\"kp3\",pargp=\"vp4\", zone_array=ib[3], spatial_reference=sr,\n",
    "                   upper_bound=10.,lower_bound=0.1,geostruct=grid_gs1, ult_ubound=1.736e-5,ult_lbound=1.736e-7)\n",
    "\n"
   ]
  },
  {
   "cell_type": "code",
   "execution_count": 120,
   "metadata": {},
   "outputs": [
    {
     "name": "stdout",
     "output_type": "stream",
     "text": [
      "noptmax:30, npar_adj:80, nnz_obs:33\n",
      "2021-02-19 20:37:35.703559 forward_run line:pyemu.os_utils.run(r'..\\mf6')\n",
      "\n"
     ]
    },
    {
     "data": {
      "text/plain": [
       "<pyemu.pst.pst_handler.Pst at 0x26ee1380670>"
      ]
     },
     "execution_count": 120,
     "metadata": {},
     "output_type": "execute_result"
    }
   ],
   "source": [
    "# add run model command\n",
    "pf.mod_sys_cmds.append(\"..\\mf6\")\n",
    "pf.build_pst(\"{}.pst\".format(case))"
   ]
  },
  {
   "cell_type": "code",
   "execution_count": 121,
   "metadata": {},
   "outputs": [],
   "source": [
    "#Rewrite ins file because Pyemu isn't smart enough\n",
    "\n",
    "file = \"template/heads.csv.ins\"\n",
    "fileout = \"template/heads2.csv.ins\"\n",
    "with open(file) as f:\n",
    "    with open(fileout,\"w\") as fout:\n",
    "        for i,line in enumerate(f):\n",
    "            if i < 2:\n",
    "                fout.write(line)\n",
    "            if i > 1:\n",
    "                for o,split in enumerate(line.split(\"w\")):\n",
    "                    if o == 1:\n",
    "                        fout.write(\"~,~\")\n",
    "                    fout.write(split)\n",
    "                        \n",
    "\n",
    "copyfile(fileout, file) # copy \n",
    "os.remove(fileout) # delete tmp file"
   ]
  },
  {
   "cell_type": "code",
   "execution_count": 122,
   "metadata": {},
   "outputs": [
    {
     "name": "stdout",
     "output_type": "stream",
     "text": [
      "noptmax:30, npar_adj:80, nnz_obs:33\n",
      "2021-02-19 20:37:35.906247 WARNING: sys_cmd 'pyemu.os_utils.run(r'..\\mf6')\n",
      "' already in sys cmds, skipping...\n",
      "2021-02-19 20:37:35.919172 starting: building prior covariance matrix\n",
      "2021-02-19 20:37:35.947125 saving prior covariance matrix to file template\\pest_test.prior.cov\n",
      "2021-02-19 20:37:35.960212 finished: building prior covariance matrix took: 0:00:00.041040\n"
     ]
    },
    {
     "data": {
      "image/png": "[encoded data removed]",
      "text/plain": [
       "<Figure size 504x504 with 1 Axes>"
      ]
     },
     "metadata": {
      "needs_background": "light"
     },
     "output_type": "display_data"
    }
   ],
   "source": [
    "pst = pf.build_pst(\"{}.pst\".format(case))\n",
    "cov = pf.build_prior()\n",
    "x = cov.x.copy()\n",
    "x[x==0.0] = np.NaN\n",
    "fig,ax = plt.subplots(1,1,figsize=(7,7))\n",
    "g = ax.imshow(x)"
   ]
  },
  {
   "cell_type": "code",
   "execution_count": 123,
   "metadata": {},
   "outputs": [
    {
     "name": "stdout",
     "output_type": "stream",
     "text": [
      "noptmax:3, npar_adj:80, nnz_obs:33\n"
     ]
    }
   ],
   "source": [
    "t_d = \"template\"\n",
    "m_d = \"master_glm\"\n",
    "\n",
    "pst.control_data.noptmax = 3 # FOR JACOBIAN\n",
    "pst.write(os.path.join(t_d,\"{}.pst\".format(case)))"
   ]
  },
  {
   "cell_type": "code",
   "execution_count": 124,
   "metadata": {},
   "outputs": [],
   "source": [
    "# calculate\n",
    "n = 12 #select number of workers\n",
    "pyemu.os_utils.start_workers(t_d,\"../pestpp-glm.exe\",\"{}.pst\".format(case),num_workers=n,worker_root=\".\",master_dir=m_d)"
   ]
  },
  {
   "cell_type": "code",
   "execution_count": 125,
   "metadata": {},
   "outputs": [
    {
     "name": "stdout",
     "output_type": "stream",
     "text": [
      "noptmax:-1, npar_adj:80, nnz_obs:33\n"
     ]
    }
   ],
   "source": [
    "pst.control_data.noptmax = -1 # FOR JACOBIAN\n",
    "pst.write(os.path.join(t_d,\"{}.pst\".format(case)))\n",
    "pyemu.os_utils.start_workers(t_d,\"../pestpp-glm.exe\",\"{}.pst\".format(case),num_workers=n,worker_root=\".\",master_dir=m_d)"
   ]
  },
  {
   "cell_type": "code",
   "execution_count": 126,
   "metadata": {},
   "outputs": [
    {
     "data": {
      "text/html": [
       "<div>\n",
       "<style scoped>\n",
       "    .dataframe tbody tr th:only-of-type {\n",
       "        vertical-align: middle;\n",
       "    }\n",
       "\n",
       "    .dataframe tbody tr th {\n",
       "        vertical-align: top;\n",
       "    }\n",
       "\n",
       "    .dataframe thead th {\n",
       "        text-align: right;\n",
       "    }\n",
       "</style>\n",
       "<table border=\"1\" class=\"dataframe\">\n",
       "  <thead>\n",
       "    <tr style=\"text-align: right;\">\n",
       "      <th></th>\n",
       "      <th>type</th>\n",
       "      <th>transform</th>\n",
       "      <th>count</th>\n",
       "      <th>initial value</th>\n",
       "      <th>upper bound</th>\n",
       "      <th>lower bound</th>\n",
       "      <th>standard deviation</th>\n",
       "    </tr>\n",
       "  </thead>\n",
       "  <tbody>\n",
       "    <tr>\n",
       "      <th>kp0_inst:0</th>\n",
       "      <td>kp0_inst:0</td>\n",
       "      <td>log</td>\n",
       "      <td>10</td>\n",
       "      <td>0</td>\n",
       "      <td>1</td>\n",
       "      <td>-1</td>\n",
       "      <td>0.5</td>\n",
       "    </tr>\n",
       "    <tr>\n",
       "      <th>kp0_inst:1</th>\n",
       "      <td>kp0_inst:1</td>\n",
       "      <td>log</td>\n",
       "      <td>10</td>\n",
       "      <td>0</td>\n",
       "      <td>1</td>\n",
       "      <td>-1</td>\n",
       "      <td>0.5</td>\n",
       "    </tr>\n",
       "    <tr>\n",
       "      <th>kp1_inst:0</th>\n",
       "      <td>kp1_inst:0</td>\n",
       "      <td>log</td>\n",
       "      <td>10</td>\n",
       "      <td>0</td>\n",
       "      <td>1</td>\n",
       "      <td>-1</td>\n",
       "      <td>0.5</td>\n",
       "    </tr>\n",
       "    <tr>\n",
       "      <th>kp1_inst:1</th>\n",
       "      <td>kp1_inst:1</td>\n",
       "      <td>log</td>\n",
       "      <td>10</td>\n",
       "      <td>0</td>\n",
       "      <td>1</td>\n",
       "      <td>-1</td>\n",
       "      <td>0.5</td>\n",
       "    </tr>\n",
       "    <tr>\n",
       "      <th>kp2_inst:0</th>\n",
       "      <td>kp2_inst:0</td>\n",
       "      <td>log</td>\n",
       "      <td>10</td>\n",
       "      <td>0</td>\n",
       "      <td>1</td>\n",
       "      <td>-1</td>\n",
       "      <td>0.5</td>\n",
       "    </tr>\n",
       "    <tr>\n",
       "      <th>kp2_inst:1</th>\n",
       "      <td>kp2_inst:1</td>\n",
       "      <td>log</td>\n",
       "      <td>10</td>\n",
       "      <td>0</td>\n",
       "      <td>1</td>\n",
       "      <td>-1</td>\n",
       "      <td>0.5</td>\n",
       "    </tr>\n",
       "    <tr>\n",
       "      <th>kp3_inst:0</th>\n",
       "      <td>kp3_inst:0</td>\n",
       "      <td>log</td>\n",
       "      <td>10</td>\n",
       "      <td>0</td>\n",
       "      <td>1</td>\n",
       "      <td>-1</td>\n",
       "      <td>0.5</td>\n",
       "    </tr>\n",
       "    <tr>\n",
       "      <th>kp3_inst:1</th>\n",
       "      <td>kp3_inst:1</td>\n",
       "      <td>log</td>\n",
       "      <td>10</td>\n",
       "      <td>0</td>\n",
       "      <td>1</td>\n",
       "      <td>-1</td>\n",
       "      <td>0.5</td>\n",
       "    </tr>\n",
       "  </tbody>\n",
       "</table>\n",
       "</div>"
      ],
      "text/plain": [
       "                  type transform  count initial value upper bound lower bound  \\\n",
       "kp0_inst:0  kp0_inst:0       log     10             0           1          -1   \n",
       "kp0_inst:1  kp0_inst:1       log     10             0           1          -1   \n",
       "kp1_inst:0  kp1_inst:0       log     10             0           1          -1   \n",
       "kp1_inst:1  kp1_inst:1       log     10             0           1          -1   \n",
       "kp2_inst:0  kp2_inst:0       log     10             0           1          -1   \n",
       "kp2_inst:1  kp2_inst:1       log     10             0           1          -1   \n",
       "kp3_inst:0  kp3_inst:0       log     10             0           1          -1   \n",
       "kp3_inst:1  kp3_inst:1       log     10             0           1          -1   \n",
       "\n",
       "           standard deviation  \n",
       "kp0_inst:0                0.5  \n",
       "kp0_inst:1                0.5  \n",
       "kp1_inst:0                0.5  \n",
       "kp1_inst:1                0.5  \n",
       "kp2_inst:0                0.5  \n",
       "kp2_inst:1                0.5  \n",
       "kp3_inst:0                0.5  \n",
       "kp3_inst:1                0.5  "
      ]
     },
     "execution_count": 126,
     "metadata": {},
     "output_type": "execute_result"
    }
   ],
   "source": [
    "t_d =\"master_glm\"\n",
    "case=\"pest_test\"\n",
    "pst = pyemu.Pst(os.path.join(t_d,\"{}.pst\".format(case)))\n",
    "pst.write_par_summary_table(filename=\"none\")"
   ]
  },
  {
   "cell_type": "code",
   "execution_count": 127,
   "metadata": {},
   "outputs": [
    {
     "name": "stdout",
     "output_type": "stream",
     "text": [
      "noptmax:4, npar_adj:80, nnz_obs:33\n"
     ]
    }
   ],
   "source": [
    "pst.control_data.noptmax = 4\n",
    "pst.control_data.pestmode = \"regularization\"\n",
    "\n",
    "pst.pestpp_options[\"n_iter_base\"] = 1 \n",
    "pst.pestpp_options[\"n_iter_super\"] = 4 \n",
    "pst.pestpp_options[\"glm_num_reals\"] = 50 \n",
    "#\n",
    "pst.pestpp_options[\"parcov\"] = \"{}.prior.cov\".format(case) \n",
    "pst.pestpp_options[\"base_jacobian\"] = \"{}.jcb\".format(case) \n",
    "pst.write(os.path.join(t_d,\"{}.pst\".format(case)))\n",
    "pyemu.helpers.zero_order_tikhonov(pst)"
   ]
  },
  {
   "cell_type": "code",
   "execution_count": 128,
   "metadata": {},
   "outputs": [],
   "source": [
    "m_d = \"master_glm_run\"\n",
    "pyemu.os_utils.start_workers(t_d,\"../pestpp-glm\",\"{}.pst\".format(case),num_workers=n,worker_root=\".\",\n",
    "                           master_dir=m_d)"
   ]
  },
  {
   "cell_type": "code",
   "execution_count": 129,
   "metadata": {},
   "outputs": [
    {
     "data": {
      "text/plain": [
       "[<Figure size 576x756 with 0 Axes>, <Figure size 576x756 with 8 Axes>]"
      ]
     },
     "execution_count": 129,
     "metadata": {},
     "output_type": "execute_result"
    },
    {
     "data": {
      "text/plain": [
       "<Figure size 576x756 with 0 Axes>"
      ]
     },
     "metadata": {},
     "output_type": "display_data"
    },
    {
     "data": {
      "image/png": "[encoded data removed]",
      "text/plain": [
       "<Figure size 576x756 with 8 Axes>"
      ]
     },
     "metadata": {
      "needs_background": "light"
     },
     "output_type": "display_data"
    }
   ],
   "source": [
    "pst_a = pyemu.Pst(os.path.join(m_d,\"{}.pst\".format(case)))\n",
    "pst_a.plot(kind='1to1')"
   ]
  },
  {
   "cell_type": "code",
   "execution_count": 130,
   "metadata": {},
   "outputs": [
    {
     "name": "stderr",
     "output_type": "stream",
     "text": [
      "C:\\ProgramData\\Anaconda3\\lib\\site-packages\\pyemu\\en.py:384: UserWarning: Ensemble.from_dataframe() is deprecated and has been replaced with the standard constructor, which takesthe same arguments\n",
      "  warnings.warn(\n"
     ]
    },
    {
     "data": {
      "image/png": "[encoded data removed]",
      "text/plain": [
       "<Figure size 432x288 with 1 Axes>"
      ]
     },
     "metadata": {
      "needs_background": "light"
     },
     "output_type": "display_data"
    }
   ],
   "source": [
    "df = df=pd.read_csv(os.path.join(m_d,\"{}.post.obsen.csv\".format(case)),index_col=0)\n",
    "oe = pyemu.ObservationEnsemble.from_dataframe(pst=pst,df=df)\n",
    "ax = oe.phi_vector.hist()"
   ]
  },
  {
   "cell_type": "code",
   "execution_count": 131,
   "metadata": {},
   "outputs": [
    {
     "data": {
      "text/plain": [
       "name\n",
       "KP0_INST:0_I:30_J:90      0.189238\n",
       "KP0_INST:0_I:30_J:150     0.221187\n",
       "KP0_INST:0_I:90_J:90      0.426868\n",
       "KP0_INST:0_I:90_J:150     0.237047\n",
       "KP0_INST:0_I:150_J:30     0.239717\n",
       "                            ...   \n",
       "KP3_INST:1_I:150_J:90     0.230951\n",
       "KP3_INST:1_I:150_J:150    0.230951\n",
       "KP3_INST:1_I:210_J:30     0.612222\n",
       "KP3_INST:1_I:210_J:90     0.369223\n",
       "KP3_INST:1_I:210_J:150    0.486050\n",
       "Name: post_mean, Length: 80, dtype: float64"
      ]
     },
     "execution_count": 131,
     "metadata": {},
     "output_type": "execute_result"
    }
   ],
   "source": [
    "dfp = df=pd.read_csv(os.path.join(m_d,\"{}.par.usum.csv\".format(case)),index_col=0)\n",
    "10**dfp[\"post_mean\"]"
   ]
  },
  {
   "cell_type": "code",
   "execution_count": 132,
   "metadata": {},
   "outputs": [
    {
     "data": {
      "text/plain": [
       "(array([18., 10., 18., 12.,  0.,  0.,  0.,  0.,  3.,  0.,  0.,  0.,  0.,\n",
       "         0.,  0.,  0.,  0.,  0.,  0.,  0.,  0.,  3.,  0.,  1.,  0.,  0.,\n",
       "         0.,  0.,  0., 15.]),\n",
       " array([ 0.18923785,  0.51626325,  0.84328866,  1.17031406,  1.49733947,\n",
       "         1.82436487,  2.15139028,  2.47841568,  2.80544109,  3.13246649,\n",
       "         3.4594919 ,  3.7865173 ,  4.11354271,  4.44056811,  4.76759352,\n",
       "         5.09461892,  5.42164433,  5.74866973,  6.07569514,  6.40272054,\n",
       "         6.72974595,  7.05677135,  7.38379676,  7.71082216,  8.03784757,\n",
       "         8.36487297,  8.69189838,  9.01892378,  9.34594919,  9.67297459,\n",
       "        10.        ]),\n",
       " <BarContainer object of 30 artists>)"
      ]
     },
     "execution_count": 132,
     "metadata": {},
     "output_type": "execute_result"
    },
    {
     "data": {
      "image/png": "[encoded data removed]",
      "text/plain": [
       "<Figure size 432x288 with 1 Axes>"
      ]
     },
     "metadata": {
      "needs_background": "light"
     },
     "output_type": "display_data"
    }
   ],
   "source": [
    "plt.hist(10**dfp[\"post_mean\"],bins=30)"
   ]
  },
  {
   "cell_type": "code",
   "execution_count": 133,
   "metadata": {},
   "outputs": [
    {
     "name": "stdout",
     "output_type": "stream",
     "text": [
      "noptmax:0, npar_adj:80, nnz_obs:33\n"
     ]
    }
   ],
   "source": [
    "pst.parameter_data.parval1 = 10**dfp[\"post_mean\"].values\n",
    "pst.control_data.noptmax = 0 # one run with optimal parameters\n",
    "\n",
    "pst.write(os.path.join(t_d,\"{}.pst\".format(case)))\n",
    "\n",
    "pyemu.os_utils.run(\"..\\pestpp-glm.exe {}\".format(case),cwd=t_d)"
   ]
  },
  {
   "cell_type": "code",
   "execution_count": 146,
   "metadata": {},
   "outputs": [
    {
     "data": {
      "text/plain": [
       "Text(0.5, 1.0, 'k after inversion')"
      ]
     },
     "execution_count": 146,
     "metadata": {},
     "output_type": "execute_result"
    },
    {
     "data": {
      "image/png": "[encoded data removed]",
      "text/plain": [
       "<Figure size 1080x360 with 4 Axes>"
      ]
     },
     "metadata": {
      "needs_background": "light"
     },
     "output_type": "display_data"
    }
   ],
   "source": [
    "fig,ax = plt.subplots(1,2,figsize=(15,5))\n",
    "\n",
    "# inversion\n",
    "g= ax[0].imshow(np.log10(np.loadtxt(os.path.join(t_d,\"hk3.txt\"))))\n",
    "plt.colorbar(g,ax=ax[0])\n",
    "plt.title(\"k after inversion\")\n",
    "\n",
    "a=ax[1].contour(np.flipud(np.log10(np.loadtxt(os.path.join(t_d,\"hk2.txt\")))))\n",
    "ax[1].set_aspect(\"equal\")\n",
    "plt.colorbar(a,ax=ax[1])\n",
    "plt.title(\"k after inversion\")"
   ]
  },
  {
   "cell_type": "code",
   "execution_count": null,
   "metadata": {},
   "outputs": [],
   "source": [
    "fig,ax = plt.subplots(1,2,figsize=(15,5))\n",
    "\n",
    "# inversion\n",
    "g= ax[0].imshow(np.log10(np.loadtxt(os.path.join(\"workspace\",\"hk3.txt\"))))\n",
    "plt.colorbar(g,ax=ax[0])\n",
    "plt.title(\"k before inversion\")\n",
    "\n",
    "a=ax[1].contour(np.flipud(np.log10(np.loadtxt(os.path.join(\"workspace\",\"hk0.txt\")))))\n",
    "ax[1].set_aspect(\"equal\")\n",
    "plt.colorbar(a,ax=ax[1])\n",
    "plt.title(\"k before inversion\")"
   ]
  },
  {
   "cell_type": "code",
   "execution_count": null,
   "metadata": {},
   "outputs": [],
   "source": [
    "pst_a.plot()"
   ]
  },
  {
   "cell_type": "code",
   "execution_count": null,
   "metadata": {},
   "outputs": [],
   "source": []
  }
 ],
 "metadata": {
  "kernelspec": {
   "display_name": "Python 3",
   "language": "python",
   "name": "python3"
  },
  "language_info": {
   "codemirror_mode": {
    "name": "ipython",
    "version": 3
   },
   "file_extension": ".py",
   "mimetype": "text/x-python",
   "name": "python",
   "nbconvert_exporter": "python",
   "pygments_lexer": "ipython3",
   "version": "3.8.5"
  }
 },
 "nbformat": 4,
 "nbformat_minor": 4
}
